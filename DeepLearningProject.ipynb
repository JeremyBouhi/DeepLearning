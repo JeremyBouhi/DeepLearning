{
 "cells": [
  {
   "cell_type": "markdown",
   "metadata": {},
   "source": [
    "### 1)Extraction des données "
   ]
  },
  {
   "cell_type": "code",
   "execution_count": 1,
   "metadata": {},
   "outputs": [
    {
     "name": "stderr",
     "output_type": "stream",
     "text": [
      "Using TensorFlow backend.\n"
     ]
    }
   ],
   "source": [
    "import os\n",
    "from os import listdir, path\n",
    "import tarfile\n",
    "import random\n",
    "import numpy as np\n",
    "import keras\n",
    "from keras.preprocessing.image import img_to_array, load_img\n",
    "import tensorflow as tf\n",
    "import matplotlib.pyplot as plt\n",
    "from skimage.io import imread\n",
    "from sklearn.preprocessing import MinMaxScaler\n",
    "from sklearn.model_selection import train_test_split"
   ]
  },
  {
   "cell_type": "code",
   "execution_count": 2,
   "metadata": {},
   "outputs": [],
   "source": [
    "#attention au path bien avoir une hierarchie : data -> Dossier suivant dans data : data_test.tar.gz ,data_train.tar.gz, data_train.csv \n",
    "if not path.exists('data/data_test/'):\n",
    "    print('Extracting test image files...')\n",
    "    tar = tarfile.open(\"./data/data_test.tar.gz\", \"r:gz\")\n",
    "    tar.extractall('data/')\n",
    "if not path.exists('data/data_train/'):\n",
    "    print('Extracting train image files...')\n",
    "    tar = tarfile.open(\"./data/data_train.tar.gz\", \"r:gz\")\n",
    "    tar.extractall('data/')"
   ]
  },
  {
   "cell_type": "markdown",
   "metadata": {},
   "source": [
    "### Display utility functions"
   ]
  },
  {
   "cell_type": "code",
   "execution_count": 3,
   "metadata": {},
   "outputs": [],
   "source": [
    "def show(image):\n",
    "    plt.imshow(np.squeeze(image.astype(\"uint8\")), cmap=\"gray\")\n",
    "    plt.title(\"image shape: \"+ str(image.shape), fontsize=14)\n",
    "    plt.axis('off');\n",
    "    \n",
    "def show_multiple(images, figsize):\n",
    "    fig, ax = plt.subplots(ncols=len(images), figsize=figsize)\n",
    "    for col, image in zip(ax, images):\n",
    "        col.imshow(np.squeeze(image.astype(\"uint8\")), cmap=\"gray\")\n",
    "        col.set_title(\"image shape: \"+ str(image.shape), fontsize=14)\n",
    "    plt.tight_layout()\n",
    "    plt.axis('off');"
   ]
  },
  {
   "cell_type": "code",
   "execution_count": 4,
   "metadata": {},
   "outputs": [
    {
     "data": {
      "image/png": "[encoded data removed]",
      "text/plain": [
       "<Figure size 432x288 with 1 Axes>"
      ]
     },
     "metadata": {
      "needs_background": "light"
     },
     "output_type": "display_data"
    }
   ],
   "source": [
    "sample_image = imread(\"./data/data_train/10.jpg\")\n",
    "show(sample_image)"
   ]
  },
  {
   "cell_type": "markdown",
   "metadata": {},
   "source": [
    "### Importer les Images (Train and Test) et les trier afin qu'elles soient en adéquation avec le fichier CSV"
   ]
  },
  {
   "cell_type": "code",
   "execution_count": 5,
   "metadata": {},
   "outputs": [],
   "source": [
    "import pandas as pd\n",
    "\n",
    "def load_data(data_path):\n",
    "    csv_path = os.path.join(data_path, \"labels_train.csv\")\n",
    "    return pd.read_csv(csv_path) # note the returned variable"
   ]
  },
  {
   "cell_type": "code",
   "execution_count": 59,
   "metadata": {},
   "outputs": [],
   "source": [
    "def conv(v):\n",
    "    v2 = [s.strip('.jpg') for s in v] # remove the .jpg from the string borders \n",
    "    v2 = list(map(int, v2))\n",
    "    return v2"
   ]
  },
  {
   "cell_type": "code",
   "execution_count": 72,
   "metadata": {},
   "outputs": [],
   "source": [
    "def int_to_imagepath (v):\n",
    "    v1 = list(map(str, v))\n",
    "    #print (v1)\n",
    "    v1 = [s.replace(s,s+\".jpg\") for s in v1] \n",
    "    return v1"
   ]
  },
  {
   "cell_type": "code",
   "execution_count": 74,
   "metadata": {},
   "outputs": [
    {
     "name": "stdout",
     "output_type": "stream",
     "text": [
      "    Id    Category\n",
      "0    0      rabbit\n",
      "1    1  chimpanzee\n",
      "2    2    kangaroo\n",
      "3    3        bear\n",
      "4    4      rabbit\n",
      "5    5    kangaroo\n",
      "6    6     dolphin\n",
      "7    7         fox\n",
      "8    8        wolf\n",
      "9    9         bee\n",
      "10  10         bee\n",
      "y lenght :  7200\n",
      "X lenght :  7200\n"
     ]
    },
    {
     "data": {
      "image/png": "[encoded data removed]",
      "text/plain": [
       "<Figure size 432x288 with 1 Axes>"
      ]
     },
     "metadata": {
      "needs_background": "light"
     },
     "output_type": "display_data"
    }
   ],
   "source": [
    "GLOBAL_DATA_PATH = \"./data\"\n",
    "\n",
    "X_train = []\n",
    "files = []\n",
    "files = listdir(path.join(GLOBAL_DATA_PATH, \"data_train\"))\n",
    "files.remove('.ipynb_checkpoints') #Permet de vérifier qu'il n'ai pas d'élément avec \".ipynb_checkpoints\"\n",
    "files2 = conv(files) # convertion string to int\n",
    "files3 = sorted(files2) # classement ordre croissant\n",
    "files4 = int_to_imagepath (files3) #converte the sort list to a sort list with \".jpg\"\n",
    "#print(\"files4\",files4)\n",
    "\n",
    "for file in files4:\n",
    "    img = load_img(path.join(GLOBAL_DATA_PATH, \"data_train\", file))\n",
    "    X_train.append(img_to_array(img))\n",
    "\n",
    "y_train = load_data(GLOBAL_DATA_PATH) #Pemet de charger les données du CSV\n",
    "\n",
    "show(X[0])\n",
    "\n",
    "print(y_train.head(11))\n",
    "print(\"y lenght : \",len(y_train))\n",
    "print(\"X lenght : \",len(X_train))"
   ]
  },
  {
   "cell_type": "code",
   "execution_count": 78,
   "metadata": {},
   "outputs": [
    {
     "name": "stdout",
     "output_type": "stream",
     "text": [
      "X_test lenght :  1800\n"
     ]
    }
   ],
   "source": [
    "X_test = []\n",
    "files = []\n",
    "files = listdir(path.join(GLOBAL_DATA_PATH, \"data_test\"))\n",
    "\n",
    "for file in files:\n",
    "    img = load_img(path.join(GLOBAL_DATA_PATH, \"data_train\", file))\n",
    "    X_test.append(img_to_array(img))\n",
    "\n",
    "print(\"X_test lenght : \",len(X_test))"
   ]
  }
 ],
 "metadata": {
  "kernelspec": {
   "display_name": "Python 3",
   "language": "python",
   "name": "python3"
  },
  "language_info": {
   "codemirror_mode": {
    "name": "ipython",
    "version": 3
   },
   "file_extension": ".py",
   "mimetype": "text/x-python",
   "name": "python",
   "nbconvert_exporter": "python",
   "pygments_lexer": "ipython3",
   "version": "3.6.6"
  }
 },
 "nbformat": 4,
 "nbformat_minor": 2
}
