{
 "cells": [
  {
   "cell_type": "markdown",
   "metadata": {},
   "source": [
    "### 1)Extraction des données "
   ]
  },
  {
   "cell_type": "code",
   "execution_count": 14,
   "metadata": {},
   "outputs": [
    {
     "name": "stderr",
     "output_type": "stream",
     "text": [
      "Using TensorFlow backend.\n"
     ]
    }
   ],
   "source": [
    "import os\n",
    "from os import listdir, path\n",
    "import tarfile\n",
    "import random\n",
    "import numpy as np\n",
    "import keras\n",
    "from keras.preprocessing.image import img_to_array, load_img\n",
    "import tensorflow as tf\n",
    "import matplotlib.pyplot as plt\n",
    "from skimage.io import imread\n",
    "from sklearn.preprocessing import MinMaxScaler\n",
    "from sklearn.model_selection import train_test_split"
   ]
  },
  {
   "cell_type": "code",
   "execution_count": 2,
   "metadata": {},
   "outputs": [],
   "source": [
    "#attention au path bien avoir une hierarchie : data -> Dossier suivant dans data : data_test.tar.gz ,data_train.tar.gz, data_train.csv \n",
    "if not path.exists('data/data_test/'):\n",
    "    print('Extracting test image files...')\n",
    "    tar = tarfile.open(\"./data/data_test.tar.gz\", \"r:gz\")\n",
    "    tar.extractall('data/')\n",
    "if not path.exists('data/data_train/'):\n",
    "    print('Extracting train image files...')\n",
    "    tar = tarfile.open(\"./data/data_train.tar.gz\", \"r:gz\")\n",
    "    tar.extractall('data/')"
   ]
  },
  {
   "cell_type": "markdown",
   "metadata": {},
   "source": [
    "### Display utility functions"
   ]
  },
  {
   "cell_type": "code",
   "execution_count": 15,
   "metadata": {},
   "outputs": [],
   "source": [
    "def show(image):\n",
    "    plt.imshow(np.squeeze(image.astype(\"uint8\")), cmap=\"gray\")\n",
    "    plt.title(\"image shape: \"+ str(image.shape), fontsize=14)\n",
    "    plt.axis('off');\n",
    "    \n",
    "def show_multiple(images, figsize):\n",
    "    fig, ax = plt.subplots(ncols=len(images), figsize=figsize)\n",
    "    for col, image in zip(ax, images):\n",
    "        col.imshow(np.squeeze(image.astype(\"uint8\")), cmap=\"gray\")\n",
    "        col.set_title(\"image shape: \"+ str(image.shape), fontsize=14)\n",
    "    plt.tight_layout()\n",
    "    plt.axis('off');"
   ]
  },
  {
   "cell_type": "code",
   "execution_count": 30,
   "metadata": {},
   "outputs": [
    {
     "data": {
      "image/png": "[encoded data removed]",
      "text/plain": [
       "<Figure size 432x288 with 1 Axes>"
      ]
     },
     "metadata": {
      "needs_background": "light"
     },
     "output_type": "display_data"
    }
   ],
   "source": [
    "sample_image = imread(\"./data/data_train/10.jpg\")\n",
    "show(sample_image)"
   ]
  },
  {
   "cell_type": "markdown",
   "metadata": {},
   "source": [
    "### Importer les Images (Train and Test) et les trier afin qu'elles soient en adéquation avec le fichier CSV"
   ]
  },
  {
   "cell_type": "code",
   "execution_count": 4,
   "metadata": {},
   "outputs": [],
   "source": [
    "import pandas as pd\n",
    "import os\n",
    "\n",
    "def load_data(data_path):\n",
    "    csv_path = os.path.join(data_path, \"labels_train.csv\")\n",
    "    return pd.read_csv(csv_path) # note the returned variable"
   ]
  },
  {
   "cell_type": "code",
   "execution_count": 5,
   "metadata": {},
   "outputs": [],
   "source": [
    "GLOBAL_DATA_PATH = \"./data\"\n",
    "data = load_data(GLOBAL_DATA_PATH) #Pemet de charger les données du CSV"
   ]
  },
  {
   "cell_type": "code",
   "execution_count": null,
   "metadata": {},
   "outputs": [],
   "source": [
    "import shutil, os\n",
    "\n",
    "def split_img_in_subfolders(data) :\n",
    "    for i in range(data.shape[0]) : \n",
    "        animal_folder_path = os.path.join('./','data', 'data_train', data['Category'][i])\n",
    "        \n",
    "        # Create folder if doesn't exist \n",
    "        if not path.exists(animal_folder_path):\n",
    "            os.mkdir(animal_folder_path)\n",
    "            \n",
    "        # Copy the img in the associated folder    \n",
    "        shutil.copy(os.path.join('./', 'data', 'data_train', str(data['Id'][i])) +'.jpg', os.path.join(animal_folder_path , str(data['Id'][i]) +'.jpg'))"
   ]
  },
  {
   "cell_type": "code",
   "execution_count": 13,
   "metadata": {},
   "outputs": [],
   "source": [
    "split_img_in_subfolders(data)"
   ]
  },
  {
   "cell_type": "code",
   "execution_count": 6,
   "metadata": {},
   "outputs": [],
   "source": [
    "def get_classes() :\n",
    "    classes = []\n",
    "    for animal in data['Category'] :\n",
    "        if (animal not in classes) : \n",
    "            classes.append(animal)\n",
    "        \n",
    "    return classes"
   ]
  },
  {
   "cell_type": "code",
   "execution_count": 12,
   "metadata": {},
   "outputs": [],
   "source": [
    "def get_splitted_data_with_size(image_size, sample_size, test_ratio, classes, seed):\n",
    "    X, Y = [], []\n",
    "    for label, animal in enumerate(classes):\n",
    "        files = listdir(path.join('./data/data_train', animal))\n",
    "        random.shuffle(files)\n",
    "        files = files[:(sample_size // len(classes))]\n",
    "        for file in files:\n",
    "            img = load_img(path.join('./data/data_train', animal, file), \n",
    "                           target_size=image_size)\n",
    "            X.append(img_to_array(img))\n",
    "            Y.append(label)\n",
    "    return train_test_split(np.asarray(X), np.asarray(Y), test_size=test_ratio, random_state=seed)"
   ]
  },
  {
   "cell_type": "code",
   "execution_count": 16,
   "metadata": {},
   "outputs": [],
   "source": [
    "image_size = (224, 224, 3)\n",
    "sample_size = 400\n",
    "classes = get_classes()\n",
    "\n",
    "X_tr, X_val, y_tr, y_val = get_splitted_data_with_size(\n",
    "    image_size=image_size, sample_size=sample_size, test_ratio=0.25, classes=classes, seed=42\n",
    ")"
   ]
  },
  {
   "cell_type": "code",
   "execution_count": 17,
   "metadata": {},
   "outputs": [
    {
     "data": {
      "text/plain": [
       "((292, 224, 224, 3), (98, 224, 224, 3), (292,), (98,))"
      ]
     },
     "execution_count": 17,
     "metadata": {},
     "output_type": "execute_result"
    }
   ],
   "source": [
    "X_tr.shape, X_val.shape, y_tr.shape, y_val.shape"
   ]
  },
  {
   "cell_type": "code",
   "execution_count": 18,
   "metadata": {},
   "outputs": [
    {
     "name": "stdout",
     "output_type": "stream",
     "text": [
      "rabbit\n"
     ]
    },
    {
     "data": {
      "image/png": "[encoded data removed]",
      "text/plain": [
       "<Figure size 432x288 with 1 Axes>"
      ]
     },
     "metadata": {
      "needs_background": "light"
     },
     "output_type": "display_data"
    }
   ],
   "source": [
    "show(X_tr[1])\n",
    "print(classes[y_tr[1]])"
   ]
  },
  {
   "cell_type": "markdown",
   "metadata": {},
   "source": [
    "### MODEL : VIA RESNET 50 "
   ]
  },
  {
   "cell_type": "code",
   "execution_count": 19,
   "metadata": {},
   "outputs": [],
   "source": [
    "def plot_model_history(model_history):\n",
    "    fig, axs = plt.subplots(1, 2, figsize=(15, 5))\n",
    "    for ax, metric, name in zip(axs, ['acc', 'loss'], ['Accuracy', 'Loss']):\n",
    "        ax.plot(\n",
    "            range(1, len(model_history.history[metric]) + 1), \n",
    "            model_history.history[metric]\n",
    "        )\n",
    "        ax.plot(\n",
    "            range(1, len(model_history.history['val_' + metric]) + 1), \n",
    "            model_history.history['val_' + metric]\n",
    "        )\n",
    "        ax.set_title('Model ' + name)\n",
    "        ax.set_ylabel(name)\n",
    "        ax.set_xlabel('Epoch')\n",
    "        ax.legend(['train', 'val'], loc='best')\n",
    "    plt.show()"
   ]
  },
  {
   "cell_type": "code",
   "execution_count": 20,
   "metadata": {},
   "outputs": [],
   "source": [
    "import numpy as np\n",
    "from keras.applications.resnet50 import ResNet50, preprocess_input, decode_predictions\n",
    "from keras.models import Model\n",
    "from keras.preprocessing import image\n",
    "from skimage.transform import resize\n",
    "from skimage.io import imread"
   ]
  },
  {
   "cell_type": "code",
   "execution_count": 32,
   "metadata": {},
   "outputs": [],
   "source": [
    " #Basic Implementation of resnet model\n",
    "model_ResNet50 = ResNet50(include_top=True, weights='imagenet')\n",
    "#model_ResNet50.summary()"
   ]
  },
  {
   "cell_type": "code",
   "execution_count": 33,
   "metadata": {},
   "outputs": [],
   "source": [
    "model_ResNet50.compile(optimizer='adam',loss='binary_crossentropy',metrics=['accuracy'])"
   ]
  },
  {
   "cell_type": "code",
   "execution_count": null,
   "metadata": {},
   "outputs": [],
   "source": []
  },
  {
   "cell_type": "code",
   "execution_count": null,
   "metadata": {},
   "outputs": [],
   "source": [
    "preds = model_ResNet50.predict(img_resized)\n",
    "decode_predictions(preds, top=5)"
   ]
  },
  {
   "cell_type": "code",
   "execution_count": 38,
   "metadata": {},
   "outputs": [
    {
     "name": "stdout",
     "output_type": "stream",
     "text": [
      "dugong 0.44612902\n",
      "fox_squirrel 0.16203322\n",
      "grey_whale 0.14001317\n",
      "Arctic_fox 0.08744889\n",
      "ice_bear 0.038717896\n"
     ]
    }
   ],
   "source": [
    "#Print prediction of the unique image \n",
    "x = image.img_to_array(img_resized)\n",
    "x = np.expand_dims(x, axis=0)\n",
    "x = preprocess_input(x)\n",
    "preds = model_ResNet50.predict(x)\n",
    "        \n",
    "decoded_predictions = decode_predictions(preds)\n",
    "\n",
    "if decoded_predictions:\n",
    "    for _, name, score in decoded_predictions[0]:\n",
    "        print(name, score)"
   ]
  },
  {
   "cell_type": "code",
   "execution_count": 19,
   "metadata": {},
   "outputs": [],
   "source": [
    "model_ResNet50.compile(optimizer='adam',loss='binary_crossentropy',metrics=['accuracy'])"
   ]
  },
  {
   "cell_type": "code",
   "execution_count": 45,
   "metadata": {},
   "outputs": [
    {
     "ename": "ValueError",
     "evalue": "Error when checking target: expected dense_8 to have 4 dimensions, but got array with shape (146, 1)",
     "output_type": "error",
     "traceback": [
      "\u001b[0;31m---------------------------------------------------------------------------\u001b[0m",
      "\u001b[0;31mValueError\u001b[0m                                Traceback (most recent call last)",
      "\u001b[0;32m<ipython-input-45-007a9270b13f>\u001b[0m in \u001b[0;36m<module>\u001b[0;34m\u001b[0m\n\u001b[1;32m     22\u001b[0m         \u001b[0mepochs\u001b[0m\u001b[0;34m=\u001b[0m\u001b[0;36m20\u001b[0m\u001b[0;34m,\u001b[0m\u001b[0;34m\u001b[0m\u001b[0m\n\u001b[1;32m     23\u001b[0m         \u001b[0mverbose\u001b[0m\u001b[0;34m=\u001b[0m\u001b[0;36m1\u001b[0m\u001b[0;34m,\u001b[0m\u001b[0;34m\u001b[0m\u001b[0m\n\u001b[0;32m---> 24\u001b[0;31m         validation_data=(X_val, y_val))\n\u001b[0m\u001b[1;32m     25\u001b[0m \u001b[0;34m\u001b[0m\u001b[0m\n\u001b[1;32m     26\u001b[0m     \u001b[0mprint\u001b[0m\u001b[0;34m(\u001b[0m\u001b[0;34m'Training complete'\u001b[0m\u001b[0;34m)\u001b[0m\u001b[0;34m\u001b[0m\u001b[0m\n",
      "\u001b[0;32m~/.local/lib/python3.6/site-packages/keras/engine/training.py\u001b[0m in \u001b[0;36mfit\u001b[0;34m(self, x, y, batch_size, epochs, verbose, callbacks, validation_split, validation_data, shuffle, class_weight, sample_weight, initial_epoch, steps_per_epoch, validation_steps, **kwargs)\u001b[0m\n\u001b[1;32m    950\u001b[0m             \u001b[0msample_weight\u001b[0m\u001b[0;34m=\u001b[0m\u001b[0msample_weight\u001b[0m\u001b[0;34m,\u001b[0m\u001b[0;34m\u001b[0m\u001b[0m\n\u001b[1;32m    951\u001b[0m             \u001b[0mclass_weight\u001b[0m\u001b[0;34m=\u001b[0m\u001b[0mclass_weight\u001b[0m\u001b[0;34m,\u001b[0m\u001b[0;34m\u001b[0m\u001b[0m\n\u001b[0;32m--> 952\u001b[0;31m             batch_size=batch_size)\n\u001b[0m\u001b[1;32m    953\u001b[0m         \u001b[0;31m# Prepare validation data.\u001b[0m\u001b[0;34m\u001b[0m\u001b[0;34m\u001b[0m\u001b[0m\n\u001b[1;32m    954\u001b[0m         \u001b[0mdo_validation\u001b[0m \u001b[0;34m=\u001b[0m \u001b[0;32mFalse\u001b[0m\u001b[0;34m\u001b[0m\u001b[0m\n",
      "\u001b[0;32m~/.local/lib/python3.6/site-packages/keras/engine/training.py\u001b[0m in \u001b[0;36m_standardize_user_data\u001b[0;34m(self, x, y, sample_weight, class_weight, check_array_lengths, batch_size)\u001b[0m\n\u001b[1;32m    787\u001b[0m                 \u001b[0mfeed_output_shapes\u001b[0m\u001b[0;34m,\u001b[0m\u001b[0;34m\u001b[0m\u001b[0m\n\u001b[1;32m    788\u001b[0m                 \u001b[0mcheck_batch_axis\u001b[0m\u001b[0;34m=\u001b[0m\u001b[0;32mFalse\u001b[0m\u001b[0;34m,\u001b[0m  \u001b[0;31m# Don't enforce the batch size.\u001b[0m\u001b[0;34m\u001b[0m\u001b[0m\n\u001b[0;32m--> 789\u001b[0;31m                 exception_prefix='target')\n\u001b[0m\u001b[1;32m    790\u001b[0m \u001b[0;34m\u001b[0m\u001b[0m\n\u001b[1;32m    791\u001b[0m             \u001b[0;31m# Generate sample-wise weight values given the `sample_weight` and\u001b[0m\u001b[0;34m\u001b[0m\u001b[0;34m\u001b[0m\u001b[0m\n",
      "\u001b[0;32m~/.local/lib/python3.6/site-packages/keras/engine/training_utils.py\u001b[0m in \u001b[0;36mstandardize_input_data\u001b[0;34m(data, names, shapes, check_batch_axis, exception_prefix)\u001b[0m\n\u001b[1;32m    126\u001b[0m                         \u001b[0;34m': expected '\u001b[0m \u001b[0;34m+\u001b[0m \u001b[0mnames\u001b[0m\u001b[0;34m[\u001b[0m\u001b[0mi\u001b[0m\u001b[0;34m]\u001b[0m \u001b[0;34m+\u001b[0m \u001b[0;34m' to have '\u001b[0m \u001b[0;34m+\u001b[0m\u001b[0;34m\u001b[0m\u001b[0m\n\u001b[1;32m    127\u001b[0m                         \u001b[0mstr\u001b[0m\u001b[0;34m(\u001b[0m\u001b[0mlen\u001b[0m\u001b[0;34m(\u001b[0m\u001b[0mshape\u001b[0m\u001b[0;34m)\u001b[0m\u001b[0;34m)\u001b[0m \u001b[0;34m+\u001b[0m \u001b[0;34m' dimensions, but got array '\u001b[0m\u001b[0;34m\u001b[0m\u001b[0m\n\u001b[0;32m--> 128\u001b[0;31m                         'with shape ' + str(data_shape))\n\u001b[0m\u001b[1;32m    129\u001b[0m                 \u001b[0;32mif\u001b[0m \u001b[0;32mnot\u001b[0m \u001b[0mcheck_batch_axis\u001b[0m\u001b[0;34m:\u001b[0m\u001b[0;34m\u001b[0m\u001b[0m\n\u001b[1;32m    130\u001b[0m                     \u001b[0mdata_shape\u001b[0m \u001b[0;34m=\u001b[0m \u001b[0mdata_shape\u001b[0m\u001b[0;34m[\u001b[0m\u001b[0;36m1\u001b[0m\u001b[0;34m:\u001b[0m\u001b[0;34m]\u001b[0m\u001b[0;34m\u001b[0m\u001b[0m\n",
      "\u001b[0;31mValueError\u001b[0m: Error when checking target: expected dense_8 to have 4 dimensions, but got array with shape (146, 1)"
     ]
    }
   ],
   "source": [
    "from keras.models import Sequential\n",
    "from keras.layers import Dense, Dropout\n",
    "from keras.optimizers import Adam\n",
    "\n",
    "batch_size = 128\n",
    "num_epochs = 20\n",
    "\n",
    "model = Sequential()\n",
    "\n",
    "model.add(Dropout(0.8))\n",
    "model.add(Dense(128, activation = 'relu'))\n",
    "model.add(Dense(1, activation = 'sigmoid'))\n",
    "    \n",
    "model.compile(optimizer='adam',loss='binary_crossentropy',metrics=['accuracy'])\n",
    "\n",
    "# The fit function allows you to fit the compiled model to some training data\n",
    "if model:\n",
    "    model_history = model.fit(\n",
    "        x=X_tr, \n",
    "        y=y_tr, \n",
    "        batch_size=20, \n",
    "        epochs=20,\n",
    "        verbose=1,\n",
    "        validation_data=(X_val, y_val))\n",
    "    \n",
    "    print('Training complete')\n",
    "else:\n",
    "    model_history = None"
   ]
  },
  {
   "cell_type": "code",
   "execution_count": 21,
   "metadata": {},
   "outputs": [],
   "source": [
    "from keras.models import Sequential\n",
    "from keras.layers import Dense, Activation, Flatten, Dropout, BatchNormalization\n",
    "from keras.layers import Conv2D, MaxPooling2D\n",
    "from keras.optimizers import Adam\n",
    "\n",
    "\"\"\"\n",
    "Return a compiled Keras model\n",
    "\"\"\"\n",
    "def design_model():\n",
    "    activation1 = 'relu'\n",
    "    activation2 = 'sigmoid'\n",
    "    kernel_height = 4\n",
    "    kernel_width = 4\n",
    "    output_filter = 32\n",
    "    output_filter2 = 16\n",
    "    model = Sequential()\n",
    "    \n",
    "    # TODO: 1st Convolution Layer\n",
    "    model.add(Conv2D(output_filter2, (kernel_height, kernel_width), padding='SAME', input_shape=(image_size[0], image_size[1], image_size[2]))) \n",
    "    model.add(Activation(activation1)) \n",
    "    model.add(BatchNormalization())\n",
    "    model.add(MaxPooling2D(pool_size=(2, 2)))  \n",
    "    \n",
    "    #2nd Convolution Layer\n",
    "    model.add(Conv2D(output_filter2, (kernel_height, kernel_width)))\n",
    "    model.add(Activation(activation1)) \n",
    "    model.add(BatchNormalization())\n",
    "    model.add(MaxPooling2D(pool_size=(2, 2)))\n",
    "    \n",
    "    model.add(Flatten())\n",
    "    model.add(Dropout(0.7))\n",
    "    model.add(Dense(128, activation = activation1))\n",
    "    model.add(Dense(1, activation = activation2))\n",
    "\n",
    "    return model"
   ]
  },
  {
   "cell_type": "code",
   "execution_count": 22,
   "metadata": {},
   "outputs": [],
   "source": [
    "conv_model = design_model()"
   ]
  },
  {
   "cell_type": "code",
   "execution_count": null,
   "metadata": {},
   "outputs": [
    {
     "name": "stdout",
     "output_type": "stream",
     "text": [
      "Train on 292 samples, validate on 98 samples\n",
      "Epoch 1/20\n",
      "292/292 [==============================] - 54s 184ms/step - loss: -79.0751 - acc: 0.0685 - val_loss: -84.7831 - val_acc: 0.0714\n",
      "Epoch 2/20\n",
      "292/292 [==============================] - 71s 242ms/step - loss: -96.2316 - acc: 0.0651 - val_loss: -86.5024 - val_acc: 0.0714\n",
      "Epoch 3/20\n",
      "100/292 [=========>....................] - ETA: 56s - loss: -96.2920 - acc: 0.0400"
     ]
    }
   ],
   "source": [
    "batch_size = 100\n",
    "num_epochs = 20  # The number of epochs (full passes through the data) to train for\n",
    "\n",
    "conv_model.compile(optimizer='adam',loss='binary_crossentropy',metrics=['accuracy'])\n",
    "\n",
    "# The fit function allows you to fit the compiled model to some training data\n",
    "if conv_model:\n",
    "    model_history = conv_model.fit(\n",
    "        x=X_tr, \n",
    "        y=y_tr, \n",
    "        batch_size=batch_size, \n",
    "        epochs=num_epochs,\n",
    "        verbose=1,\n",
    "        validation_data=(X_val, y_val)\n",
    "    )\n",
    "    print('Training complete')\n",
    "else:\n",
    "    model_history = None"
   ]
  },
  {
   "cell_type": "code",
   "execution_count": 24,
   "metadata": {},
   "outputs": [
    {
     "data": {
      "image/png": "[encoded data removed]",
      "text/plain": [
       "<Figure size 1080x360 with 2 Axes>"
      ]
     },
     "metadata": {
      "needs_background": "light"
     },
     "output_type": "display_data"
    }
   ],
   "source": [
    "plot_model_history(model_history)"
   ]
  }
 ],
 "metadata": {
  "kernelspec": {
   "display_name": "Python 3",
   "language": "python",
   "name": "python3"
  },
  "language_info": {
   "codemirror_mode": {
    "name": "ipython",
    "version": 3
   },
   "file_extension": ".py",
   "mimetype": "text/x-python",
   "name": "python",
   "nbconvert_exporter": "python",
   "pygments_lexer": "ipython3",
   "version": "3.6.5"
  }
 },
 "nbformat": 4,
 "nbformat_minor": 2
}
