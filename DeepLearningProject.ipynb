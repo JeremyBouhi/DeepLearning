{
 "cells": [
  {
   "cell_type": "markdown",
   "metadata": {},
   "source": [
    "### 1)Extraction des données "
   ]
  },
  {
   "cell_type": "code",
   "execution_count": 1,
   "metadata": {},
   "outputs": [
    {
     "name": "stderr",
     "output_type": "stream",
     "text": [
      "Using TensorFlow backend.\n"
     ]
    }
   ],
   "source": [
    "import os\n",
    "from os import listdir, path\n",
    "import tarfile\n",
    "import random\n",
    "import numpy as np\n",
    "import keras\n",
    "from keras.preprocessing.image import img_to_array, load_img\n",
    "import tensorflow as tf\n",
    "import matplotlib.pyplot as plt\n",
    "from skimage.io import imread\n",
    "from sklearn.preprocessing import MinMaxScaler\n",
    "from sklearn.model_selection import train_test_split"
   ]
  },
  {
   "cell_type": "code",
   "execution_count": 2,
   "metadata": {},
   "outputs": [],
   "source": [
    "#attention au path bien avoir une hierarchie : data -> Dossier suivant dans data : data_test.tar.gz ,data_train.tar.gz, data_train.csv \n",
    "if not path.exists('data/data_test/'):\n",
    "    print('Extracting test image files...')\n",
    "    tar = tarfile.open(\"./data/data_test.tar.gz\", \"r:gz\")\n",
    "    tar.extractall('data/')\n",
    "if not path.exists('data/data_train/'):\n",
    "    print('Extracting train image files...')\n",
    "    tar = tarfile.open(\"./data/data_train.tar.gz\", \"r:gz\")\n",
    "    tar.extractall('data/')"
   ]
  },
  {
   "cell_type": "markdown",
   "metadata": {},
   "source": [
    "### Display utility functions"
   ]
  },
  {
   "cell_type": "code",
   "execution_count": 2,
   "metadata": {},
   "outputs": [],
   "source": [
    "def show(image):\n",
    "    plt.imshow(np.squeeze(image.astype(\"uint8\")), cmap=\"gray\")\n",
    "    plt.title(\"image shape: \"+ str(image.shape), fontsize=14)\n",
    "    plt.axis('off');\n",
    "    \n",
    "def show_multiple(images, figsize):\n",
    "    fig, ax = plt.subplots(ncols=len(images), figsize=figsize)\n",
    "    for col, image in zip(ax, images):\n",
    "        col.imshow(np.squeeze(image.astype(\"uint8\")), cmap=\"gray\")\n",
    "        col.set_title(\"image shape: \"+ str(image.shape), fontsize=14)\n",
    "    plt.tight_layout()\n",
    "    plt.axis('off');"
   ]
  },
  {
   "cell_type": "code",
   "execution_count": 3,
   "metadata": {},
   "outputs": [
    {
     "data": {
      "image/png": "[encoded data removed]",
      "text/plain": [
       "<Figure size 432x288 with 1 Axes>"
      ]
     },
     "metadata": {
      "needs_background": "light"
     },
     "output_type": "display_data"
    }
   ],
   "source": [
    "sample_image = imread(\"./data/data_train/10.jpg\")\n",
    "show(sample_image)"
   ]
  },
  {
   "cell_type": "markdown",
   "metadata": {},
   "source": [
    "### Importer les Images (Train and Test) et les trier afin qu'elles soient en adéquation avec le fichier CSV"
   ]
  },
  {
   "cell_type": "code",
   "execution_count": 3,
   "metadata": {},
   "outputs": [],
   "source": [
    "import pandas as pd\n",
    "\n",
    "def load_data(data_path):\n",
    "    csv_path = os.path.join(data_path, \"labels_train.csv\")\n",
    "    return pd.read_csv(csv_path) # note the returned variable"
   ]
  },
  {
   "cell_type": "code",
   "execution_count": 4,
   "metadata": {},
   "outputs": [],
   "source": [
    "GLOBAL_DATA_PATH = \"./data\"\n",
    "data = load_data(GLOBAL_DATA_PATH) #Pemet de charger les données du CSV\n",
    "#y_train = load_data(GLOBAL_DATA_PATH)"
   ]
  },
  {
   "cell_type": "code",
   "execution_count": 5,
   "metadata": {},
   "outputs": [],
   "source": [
    "import shutil, os\n",
    "\n",
    "def split_img_in_subfolders(data) :\n",
    "    for i in range(data.shape[0]) : \n",
    "        animal_folder_path = os.path.join('./','data', 'data_train', data['Category'][i])\n",
    "        \n",
    "        # Create folder if doesn't exist \n",
    "        if not path.exists(animal_folder_path):\n",
    "            os.mkdir(animal_folder_path)\n",
    "            \n",
    "        # Copy the img in the associated folder    \n",
    "        shutil.copy(os.path.join('./', 'data', 'data_train', str(data['Id'][i])) +'.jpg', os.path.join(animal_folder_path , str(data['Id'][i]) +'.jpg'))"
   ]
  },
  {
   "cell_type": "code",
   "execution_count": 8,
   "metadata": {},
   "outputs": [],
   "source": [
    "#split_img_in_subfolders(data)"
   ]
  },
  {
   "cell_type": "code",
   "execution_count": 5,
   "metadata": {},
   "outputs": [],
   "source": [
    "def get_classes() :\n",
    "    classes = []\n",
    "    for animal in data['Category'] :\n",
    "        if (animal not in classes) : \n",
    "            classes.append(animal)\n",
    "        \n",
    "    return classes"
   ]
  },
  {
   "cell_type": "code",
   "execution_count": 6,
   "metadata": {},
   "outputs": [],
   "source": [
    "def get_splitted_data_with_size(image_size, sample_size, test_ratio, classes, seed):\n",
    "    X, Y = [], []\n",
    "    for label, animal in enumerate(classes):\n",
    "        files = listdir(path.join('./data/data_train', animal))\n",
    "        random.shuffle(files)\n",
    "        files = files[:(sample_size // len(classes))]\n",
    "        for file in files:\n",
    "            img = load_img(path.join('./data/data_train', animal, file), \n",
    "                           target_size=image_size)\n",
    "            X.append(img_to_array(img))\n",
    "            Y.append(label)\n",
    "            \n",
    "    return train_test_split(np.asarray(X), np.asarray(Y), test_size=test_ratio, random_state=seed)"
   ]
  },
  {
   "cell_type": "code",
   "execution_count": 8,
   "metadata": {},
   "outputs": [
    {
     "data": {
      "text/plain": [
       "(7200, 2)"
      ]
     },
     "execution_count": 8,
     "metadata": {},
     "output_type": "execute_result"
    }
   ],
   "source": [
    "data.shape"
   ]
  },
  {
   "cell_type": "code",
   "execution_count": 7,
   "metadata": {},
   "outputs": [],
   "source": [
    "image_size = (32, 32, 3)\n",
    "keras_size = (224, 224, 3)\n",
    "sample_size = 500\n",
    "classes = get_classes()\n",
    "\n",
    "X_tr, X_val, y_tr, y_val = get_splitted_data_with_size(\n",
    "    image_size=image_size, sample_size=sample_size, test_ratio=0.25, classes=classes, seed=42\n",
    ")"
   ]
  },
  {
   "cell_type": "code",
   "execution_count": 10,
   "metadata": {},
   "outputs": [
    {
     "data": {
      "text/plain": [
       "((742, 32, 32, 3), (248, 32, 32, 3), (742,), (248,))"
      ]
     },
     "execution_count": 10,
     "metadata": {},
     "output_type": "execute_result"
    }
   ],
   "source": [
    "X_tr.shape, X_val.shape, y_tr.shape, y_val.shape"
   ]
  },
  {
   "cell_type": "code",
   "execution_count": 11,
   "metadata": {},
   "outputs": [
    {
     "data": {
      "text/plain": [
       "15"
      ]
     },
     "execution_count": 11,
     "metadata": {},
     "output_type": "execute_result"
    }
   ],
   "source": [
    "len(classes)"
   ]
  },
  {
   "cell_type": "code",
   "execution_count": 12,
   "metadata": {},
   "outputs": [
    {
     "name": "stdout",
     "output_type": "stream",
     "text": [
      "chimpanzee\n"
     ]
    },
    {
     "data": {
      "image/png": "[encoded data removed]",
      "text/plain": [
       "<Figure size 432x288 with 1 Axes>"
      ]
     },
     "metadata": {
      "needs_background": "light"
     },
     "output_type": "display_data"
    }
   ],
   "source": [
    "show(X_tr[1])\n",
    "print(classes[y_tr[1]])"
   ]
  },
  {
   "cell_type": "markdown",
   "metadata": {},
   "source": [
    "### MODEL : VIA RESNET 50 "
   ]
  },
  {
   "cell_type": "code",
   "execution_count": 8,
   "metadata": {},
   "outputs": [],
   "source": [
    "from keras.models import Sequential\n",
    "from keras.layers import Dense, Dropout, Flatten, Conv2D, MaxPooling2D, Activation, BatchNormalization\n",
    "from keras import optimizers\n",
    "from keras import utils as np_utils\n",
    "\n",
    "\n",
    "model = Sequential()\n",
    "model.add(Flatten(input_shape=X_tr.shape[1:]))\n",
    "model.add(Dense(256, activation='relu'))\n",
    "model.add(Dropout(0.5))\n",
    "model.add(Dense(len(classes), activation='softmax'))\n",
    "\n",
    "model.compile(optimizer=optimizers.SGD(lr=1e-4, momentum=0.9), loss='categorical_crossentropy', metrics=['accuracy'])\n",
    "\n",
    "y_tr = np_utils.to_categorical(y_tr, len(classes))\n",
    "y_val = np_utils.to_categorical(y_val, len(classes))"
   ]
  },
  {
   "cell_type": "code",
   "execution_count": 9,
   "metadata": {},
   "outputs": [],
   "source": [
    "batch_size = 32\n",
    "num_epochs = 20\n",
    "\n",
    "from keras.preprocessing.image import ImageDataGenerator\n",
    "\n",
    "datagen = ImageDataGenerator(\n",
    "    featurewise_center=True,\n",
    "    featurewise_std_normalization=True,\n",
    "    rotation_range=20,\n",
    "    width_shift_range=0.2,\n",
    "    height_shift_range=0.2,\n",
    "    horizontal_flip=True)\n",
    "\n",
    "datagen.fit(X_tr)\n",
    "tr_generator = datagen.flow(X_tr, y_tr, batch_size=batch_size)\n",
    "val_generator = datagen.flow(X_val, y_val, batch_size=batch_size)"
   ]
  },
  {
   "cell_type": "code",
   "execution_count": 10,
   "metadata": {},
   "outputs": [
    {
     "data": {
      "text/plain": [
       "371"
      ]
     },
     "execution_count": 10,
     "metadata": {},
     "output_type": "execute_result"
    }
   ],
   "source": [
    "X_tr.shape[0]"
   ]
  },
  {
   "cell_type": "code",
   "execution_count": 11,
   "metadata": {},
   "outputs": [
    {
     "name": "stdout",
     "output_type": "stream",
     "text": [
      "Epoch 1/20\n",
      "1000/1000 [==============================] - 37s 37ms/step - loss: 2.6329 - acc: 0.2076 - val_loss: 2.5055 - val_acc: 0.1855\n",
      "Epoch 2/20\n",
      "1000/1000 [==============================] - 36s 36ms/step - loss: 2.2203 - acc: 0.2818 - val_loss: 2.4695 - val_acc: 0.2111\n",
      "Epoch 3/20\n",
      "1000/1000 [==============================] - 39s 39ms/step - loss: 2.0919 - acc: 0.3125 - val_loss: 2.4349 - val_acc: 0.2272\n",
      "Epoch 4/20\n",
      "1000/1000 [==============================] - 41s 41ms/step - loss: 2.0147 - acc: 0.3337 - val_loss: 2.4292 - val_acc: 0.2287\n",
      "Epoch 5/20\n",
      "1000/1000 [==============================] - 34s 34ms/step - loss: 1.9561 - acc: 0.3486 - val_loss: 2.4238 - val_acc: 0.2363\n",
      "Epoch 6/20\n",
      "1000/1000 [==============================] - 36s 36ms/step - loss: 1.8998 - acc: 0.3661 - val_loss: 2.4306 - val_acc: 0.2350\n",
      "Epoch 7/20\n",
      "1000/1000 [==============================] - 42s 42ms/step - loss: 1.8716 - acc: 0.3757 - val_loss: 2.4401 - val_acc: 0.2413\n",
      "Epoch 8/20\n",
      "1000/1000 [==============================] - 39s 39ms/step - loss: 1.8285 - acc: 0.3889 - val_loss: 2.4459 - val_acc: 0.2459\n",
      "Epoch 9/20\n",
      "1000/1000 [==============================] - 44s 44ms/step - loss: 1.7999 - acc: 0.3965 - val_loss: 2.4387 - val_acc: 0.2484\n",
      "Epoch 10/20\n",
      "1000/1000 [==============================] - 41s 41ms/step - loss: 1.7660 - acc: 0.4066 - val_loss: 2.4538 - val_acc: 0.2450\n",
      "Epoch 11/20\n",
      "1000/1000 [==============================] - 39s 39ms/step - loss: 1.7426 - acc: 0.4140 - val_loss: 2.4525 - val_acc: 0.2506\n",
      "Epoch 12/20\n",
      "1000/1000 [==============================] - 40s 40ms/step - loss: 1.7179 - acc: 0.4229 - val_loss: 2.4625 - val_acc: 0.2485\n",
      "Epoch 13/20\n",
      "1000/1000 [==============================] - 39s 39ms/step - loss: 1.6914 - acc: 0.4338 - val_loss: 2.4690 - val_acc: 0.2465\n",
      "Epoch 14/20\n",
      "1000/1000 [==============================] - 40s 40ms/step - loss: 1.6783 - acc: 0.4332 - val_loss: 2.4718 - val_acc: 0.2543\n",
      "Epoch 15/20\n",
      "1000/1000 [==============================] - 39s 39ms/step - loss: 1.6586 - acc: 0.4414 - val_loss: 2.4730 - val_acc: 0.2510\n",
      "Epoch 16/20\n",
      "1000/1000 [==============================] - 37s 37ms/step - loss: 1.6391 - acc: 0.4467 - val_loss: 2.4752 - val_acc: 0.2538\n",
      "Epoch 17/20\n",
      "1000/1000 [==============================] - 39s 39ms/step - loss: 1.6224 - acc: 0.4551 - val_loss: 2.4743 - val_acc: 0.2604\n",
      "Epoch 18/20\n",
      "1000/1000 [==============================] - 38s 38ms/step - loss: 1.6002 - acc: 0.4638 - val_loss: 2.4923 - val_acc: 0.2492\n",
      "Epoch 19/20\n",
      "1000/1000 [==============================] - 38s 38ms/step - loss: 1.5891 - acc: 0.4640 - val_loss: 2.4986 - val_acc: 0.2559\n",
      "Epoch 20/20\n",
      "1000/1000 [==============================] - 38s 38ms/step - loss: 1.5810 - acc: 0.4681 - val_loss: 2.5086 - val_acc: 0.2601\n"
     ]
    }
   ],
   "source": [
    "\n",
    "# fine-tune the model\n",
    "model_history = model.fit_generator(\n",
    "    tr_generator,\n",
    "    steps_per_epoch=1000,\n",
    "    epochs=num_epochs,\n",
    "    validation_data=val_generator,\n",
    "    validation_steps=800)"
   ]
  },
  {
   "cell_type": "code",
   "execution_count": 48,
   "metadata": {},
   "outputs": [
    {
     "data": {
      "text/plain": [
       "(248, 15, 15, 15)"
      ]
     },
     "execution_count": 48,
     "metadata": {},
     "output_type": "execute_result"
    }
   ],
   "source": [
    "y_val.shape"
   ]
  },
  {
   "cell_type": "code",
   "execution_count": null,
   "metadata": {},
   "outputs": [],
   "source": [
    "model.summary()"
   ]
  },
  {
   "cell_type": "code",
   "execution_count": 13,
   "metadata": {},
   "outputs": [],
   "source": [
    "def plot_model_history(model_history):\n",
    "    fig, axs = plt.subplots(1, 2, figsize=(15, 5))\n",
    "    for ax, metric, name in zip(axs, ['acc', 'loss'], ['Accuracy', 'Loss']):\n",
    "        ax.plot(\n",
    "            range(1, len(model_history.history[metric]) + 1), \n",
    "            model_history.history[metric]\n",
    "        )\n",
    "        ax.plot(\n",
    "            range(1, len(model_history.history['val_' + metric]) + 1), \n",
    "            model_history.history['val_' + metric]\n",
    "        )\n",
    "        ax.set_title('Model ' + name)\n",
    "        ax.set_ylabel(name)\n",
    "        ax.set_xlabel('Epoch')\n",
    "        ax.legend(['train', 'val'], loc='best')\n",
    "    plt.show()"
   ]
  },
  {
   "cell_type": "code",
   "execution_count": 14,
   "metadata": {},
   "outputs": [
    {
     "data": {
      "image/png": "[encoded data removed]",
      "text/plain": [
       "<Figure size 1080x360 with 2 Axes>"
      ]
     },
     "metadata": {
      "needs_background": "light"
     },
     "output_type": "display_data"
    }
   ],
   "source": [
    "plot_model_history(model_history)"
   ]
  },
  {
   "cell_type": "markdown",
   "metadata": {},
   "source": [
    "## Prediction"
   ]
  },
  {
   "cell_type": "code",
   "execution_count": 15,
   "metadata": {},
   "outputs": [],
   "source": [
    "def conv(v):\n",
    "    v2 = [s.strip('.jpg') for s in v] # remove the .jpg from the string borders \n",
    "    v2 = list(map(int, v2))\n",
    "    return v2"
   ]
  },
  {
   "cell_type": "code",
   "execution_count": 16,
   "metadata": {},
   "outputs": [],
   "source": [
    "def int_to_imagepath (v):\n",
    "    v1 = list(map(str, v))\n",
    "    #print (v1)\n",
    "    v1 = [s.replace(s,s+\".jpg\") for s in v1] \n",
    "    return v1"
   ]
  },
  {
   "cell_type": "code",
   "execution_count": 17,
   "metadata": {},
   "outputs": [
    {
     "name": "stdout",
     "output_type": "stream",
     "text": [
      "X_test lenght :  1800\n"
     ]
    }
   ],
   "source": [
    "X_test = []\n",
    "files = []\n",
    "files_test = listdir(path.join(GLOBAL_DATA_PATH, \"data_test\"))\n",
    "files2_test = conv(files_test) # convertion string to int\n",
    "files3_test = sorted(files2_test) # classement ordre croissant\n",
    "files4_test = int_to_imagepath (files3_test)\n",
    "\n",
    "for file in files4_test:\n",
    "    img = load_img(path.join(GLOBAL_DATA_PATH, \"data_train\", file))\n",
    "    X_test.append(img_to_array(img))\n",
    "\n",
    "print(\"X_test lenght : \",len(X_test))"
   ]
  },
  {
   "cell_type": "code",
   "execution_count": 36,
   "metadata": {},
   "outputs": [
    {
     "data": {
      "image/png": "[encoded data removed]",
      "text/plain": [
       "<Figure size 432x288 with 1 Axes>"
      ]
     },
     "metadata": {
      "needs_background": "light"
     },
     "output_type": "display_data"
    }
   ],
   "source": [
    "show(np.asarray(X_test[7]))"
   ]
  },
  {
   "cell_type": "code",
   "execution_count": 21,
   "metadata": {},
   "outputs": [],
   "source": [
    "\n",
    "\n",
    "y_test = model.predict_classes(np.asarray(X_test))"
   ]
  },
  {
   "cell_type": "code",
   "execution_count": 37,
   "metadata": {},
   "outputs": [
    {
     "data": {
      "text/plain": [
       "'wolf'"
      ]
     },
     "execution_count": 37,
     "metadata": {},
     "output_type": "execute_result"
    }
   ],
   "source": [
    "classes[y_test[7]]"
   ]
  },
  {
   "cell_type": "code",
   "execution_count": 75,
   "metadata": {},
   "outputs": [],
   "source": [
    "import csv\n",
    "\n",
    "id = 23\n",
    "animal = 'chimpanzee'\n",
    "\n",
    "with open('submition.csv', 'w', newline='') as csvfile:\n",
    "    \n",
    "    spamwriter = csv.writer(csvfile, delimiter='',quotechar='|', quoting=csv.QUOTE_MINIMAL)\n",
    "    spamwriter.writerow({'Id,Category'})\n",
    "    \n",
    "    for i in range(4) : \n",
    "    \n",
    "        spamwriter.writerow({i,',',classes[y_test[i]]})\n"
   ]
  },
  {
   "cell_type": "code",
   "execution_count": 50,
   "metadata": {},
   "outputs": [],
   "source": [
    "import numpy as np\n",
    "from keras.applications.resnet50 import ResNet50, preprocess_input, decode_predictions\n",
    "from keras.models import Model\n",
    "from keras.preprocessing import image\n",
    "from skimage.transform import resize\n",
    "from skimage.io import imread"
   ]
  },
  {
   "cell_type": "code",
   "execution_count": 67,
   "metadata": {},
   "outputs": [
    {
     "data": {
      "text/plain": [
       "<keras.layers.core.Dense at 0x7f7b0acc2b38>"
      ]
     },
     "execution_count": 67,
     "metadata": {},
     "output_type": "execute_result"
    }
   ],
   "source": [
    " #Basic Implementation of resnet model\n",
    "model_ResNet50 = ResNet50(include_top=True, weights='imagenet')\n",
    "model_ResNet50.layers.pop()\n",
    "#model_ResNet50.summary()"
   ]
  },
  {
   "cell_type": "code",
   "execution_count": 68,
   "metadata": {},
   "outputs": [],
   "source": [
    "model_ResNet50.compile(optimizer='adam',loss='binary_crossentropy',metrics=['accuracy'])"
   ]
  },
  {
   "cell_type": "code",
   "execution_count": 102,
   "metadata": {},
   "outputs": [],
   "source": [
    "#print(X_tr)\n",
    "#print(y_tr)"
   ]
  },
  {
   "cell_type": "code",
   "execution_count": 69,
   "metadata": {},
   "outputs": [
    {
     "name": "stdout",
     "output_type": "stream",
     "text": [
      "742/742 [==============================] - 200s 270ms/step\n",
      "248/248 [==============================] - 66s 267ms/step\n",
      "Done extracting resnet50 features..\n"
     ]
    }
   ],
   "source": [
    "if model_ResNet50:\n",
    "    X_extracted_tr = model_ResNet50.predict(preprocess_input(X_tr), verbose=1)\n",
    "    X_extracted_val = model_ResNet50.predict(preprocess_input(X_val), verbose=1)\n",
    "    print('Done extracting resnet50 features..')"
   ]
  },
  {
   "cell_type": "code",
   "execution_count": 36,
   "metadata": {},
   "outputs": [
    {
     "name": "stdout",
     "output_type": "stream",
     "text": [
      "X_extracted_tr :  (67, 1000)\n"
     ]
    }
   ],
   "source": [
    "print(\"X_extracted_tr : \", X_extracted_tr.shape)"
   ]
  },
  {
   "cell_type": "code",
   "execution_count": 28,
   "metadata": {},
   "outputs": [],
   "source": [
    "from keras import optimizers\n",
    "\n",
    "sgd = optimizers.SGD(lr=0.01, decay=1e-6, momentum=0.9, nesterov=True)"
   ]
  },
  {
   "cell_type": "code",
   "execution_count": 223,
   "metadata": {},
   "outputs": [],
   "source": [
    "from keras.models import Sequential\n",
    "from keras.layers import Dense, Dropout, Flatten, Conv2D, MaxPooling2D, Activation, BatchNormalization\n",
    "from keras.optimizers import Adam\n",
    "\n",
    "batch_size = 128\n",
    "num_epochs = 20\n",
    "\n",
    "transfer_model = Sequential()\n",
    "\n",
    "kernel_height = 5\n",
    "kernel_width = 5\n",
    "output_filter = 32\n",
    "output_filter2 = 64\n",
    "input_image = (image_size[0], image_size[1], image_size[2])\n",
    "activation1 = 'relu'\n",
    "activation2 = 'sigmoid'\n",
    "\n",
    "\"\"\"\n",
    "# TODO: 1st Convolution Layer\n",
    "transfer_model.add(Conv2D(output_filter2, (kernel_height, kernel_width), padding='SAME', input_shape=(image_size[0], image_size[1], image_size[2]))) \n",
    "transfer_model.add(Activation('relu')) \n",
    "transfer_model.add(BatchNormalization())\n",
    "transfer_model.add(MaxPooling2D(pool_size=(2, 2)))\n",
    "\n",
    "#2nd Convolution Layer\n",
    "transfer_model.add(Conv2D(output_filter2, (kernel_height, kernel_width)))\n",
    "transfer_model.add(Activation(activation1)) \n",
    "transfer_model.add(BatchNormalization())\n",
    "transfer_model.add(MaxPooling2D(pool_size=(2, 2)))\n",
    "\n",
    "transfer_model.add(Flatten())\n",
    "transfer_model.add(Dropout(0.5))\n",
    "#transfer_model.add(Dense(128, activation = 'relu'))\n",
    "transfer_model.add(Dense(1, activation = 'sigmoid'))\"\"\"\n",
    "\n",
    "\n",
    "\n",
    "transfer_model.add(Conv2D(output_filter, (kernel_height, kernel_width), padding='SAME', input_shape=input_image)) \n",
    "transfer_model.add(Activation('relu')) \n",
    "transfer_model.add(BatchNormalization())\n",
    "transfer_model.add(MaxPooling2D(pool_size=(2, 2)))\n",
    "\n",
    "transfer_model.add(Conv2D(output_filter2, (3, 3), padding='SAME', input_shape=input_image)) \n",
    "transfer_model.add(Activation('relu')) \n",
    "transfer_model.add(BatchNormalization())\n",
    "transfer_model.add(MaxPooling2D(pool_size=(2, 2)))\n",
    "\n",
    "transfer_model.add(Flatten())\n",
    "transfer_model.add(Dropout(0.4))\n",
    "transfer_model.add(Dense(126, activation='relu'))\n",
    "transfer_model.add(Dropout(0.25))\n",
    "#transfer_model.add(Dense(10, activation='softmax'))\n",
    "transfer_model.add(Dense(1))\n",
    "\n",
    "    \n",
    "transfer_model.compile(optimizer='adam',loss='mean_squared_error',metrics=['accuracy'])"
   ]
  }
 ],
 "metadata": {
  "kernelspec": {
   "display_name": "Python 3",
   "language": "python",
   "name": "python3"
  },
  "language_info": {
   "codemirror_mode": {
    "name": "ipython",
    "version": 3
   },
   "file_extension": ".py",
   "mimetype": "text/x-python",
   "name": "python",
   "nbconvert_exporter": "python",
   "pygments_lexer": "ipython3",
   "version": "3.6.5"
  }
 },
 "nbformat": 4,
 "nbformat_minor": 2
}
