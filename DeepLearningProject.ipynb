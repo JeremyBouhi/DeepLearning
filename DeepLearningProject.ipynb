{
 "cells": [
  {
   "cell_type": "markdown",
   "metadata": {},
   "source": [
    "### 1)Extraction des données "
   ]
  },
  {
   "cell_type": "code",
   "execution_count": 1,
   "metadata": {},
   "outputs": [
    {
     "name": "stderr",
     "output_type": "stream",
     "text": [
      "Using TensorFlow backend.\n"
     ]
    }
   ],
   "source": [
    "import os\n",
    "from os import listdir, path\n",
    "import tarfile\n",
    "import random\n",
    "import numpy as np\n",
    "import keras\n",
    "from keras.preprocessing.image import img_to_array, load_img\n",
    "import tensorflow as tf\n",
    "import matplotlib.pyplot as plt\n",
    "from skimage.io import imread\n",
    "from sklearn.preprocessing import MinMaxScaler\n",
    "from sklearn.model_selection import train_test_split"
   ]
  },
  {
   "cell_type": "code",
   "execution_count": 2,
   "metadata": {},
   "outputs": [],
   "source": [
    "#attention au path bien avoir une hierarchie : data -> Dossier suivant dans data : data_test.tar.gz ,data_train.tar.gz, data_train.csv \n",
    "if not path.exists('data/data_test/'):\n",
    "    print('Extracting test image files...')\n",
    "    tar = tarfile.open(\"./data/data_test.tar.gz\", \"r:gz\")\n",
    "    tar.extractall('data/')\n",
    "if not path.exists('data/data_train/'):\n",
    "    print('Extracting train image files...')\n",
    "    tar = tarfile.open(\"./data/data_train.tar.gz\", \"r:gz\")\n",
    "    tar.extractall('data/')"
   ]
  },
  {
   "cell_type": "markdown",
   "metadata": {},
   "source": [
    "### Display utility functions"
   ]
  },
  {
   "cell_type": "code",
   "execution_count": 3,
   "metadata": {},
   "outputs": [],
   "source": [
    "def show(image):\n",
    "    plt.imshow(np.squeeze(image.astype(\"uint8\")), cmap=\"gray\")\n",
    "    plt.title(\"image shape: \"+ str(image.shape), fontsize=14)\n",
    "    plt.axis('off');\n",
    "    \n",
    "def show_multiple(images, figsize):\n",
    "    fig, ax = plt.subplots(ncols=len(images), figsize=figsize)\n",
    "    for col, image in zip(ax, images):\n",
    "        col.imshow(np.squeeze(image.astype(\"uint8\")), cmap=\"gray\")\n",
    "        col.set_title(\"image shape: \"+ str(image.shape), fontsize=14)\n",
    "    plt.tight_layout()\n",
    "    plt.axis('off');"
   ]
  },
  {
   "cell_type": "code",
   "execution_count": 4,
   "metadata": {},
   "outputs": [
    {
     "data": {
      "image/png": "[encoded data removed]",
      "text/plain": [
       "<Figure size 432x288 with 1 Axes>"
      ]
     },
     "metadata": {
      "needs_background": "light"
     },
     "output_type": "display_data"
    }
   ],
   "source": [
    "sample_image = imread(\"./data/data_train/10.jpg\")\n",
    "show(sample_image)"
   ]
  },
  {
   "cell_type": "markdown",
   "metadata": {},
   "source": [
    "### Importer les Images (Train and Test) et les trier afin qu'elles soient en adéquation avec le fichier CSV"
   ]
  },
  {
   "cell_type": "code",
   "execution_count": 5,
   "metadata": {},
   "outputs": [],
   "source": [
    "import pandas as pd\n",
    "\n",
    "def load_data(data_path):\n",
    "    csv_path = os.path.join(data_path, \"labels_train.csv\")\n",
    "    return pd.read_csv(csv_path) # note the returned variable"
   ]
  },
  {
   "cell_type": "code",
   "execution_count": 32,
   "metadata": {},
   "outputs": [],
   "source": [
    "GLOBAL_DATA_PATH = \"./data\"\n",
    "data = load_data(GLOBAL_DATA_PATH) #Pemet de charger les données du CSV\n",
    "y_train = load_data(GLOBAL_DATA_PATH)"
   ]
  },
  {
   "cell_type": "code",
   "execution_count": 7,
   "metadata": {},
   "outputs": [],
   "source": [
    "import shutil, os\n",
    "\n",
    "def split_img_in_subfolders(data) :\n",
    "    for i in range(data.shape[0]) : \n",
    "        animal_folder_path = os.path.join('./','data', 'data_train', data['Category'][i])\n",
    "        \n",
    "        # Create folder if doesn't exist \n",
    "        if not path.exists(animal_folder_path):\n",
    "            os.mkdir(animal_folder_path)\n",
    "            \n",
    "        # Copy the img in the associated folder    \n",
    "        shutil.copy(os.path.join('./', 'data', 'data_train', str(data['Id'][i])) +'.jpg', os.path.join(animal_folder_path , str(data['Id'][i]) +'.jpg'))"
   ]
  },
  {
   "cell_type": "code",
   "execution_count": 8,
   "metadata": {},
   "outputs": [],
   "source": [
    "split_img_in_subfolders(data)"
   ]
  },
  {
   "cell_type": "code",
   "execution_count": 9,
   "metadata": {},
   "outputs": [],
   "source": [
    "def get_classes() :\n",
    "    classes = []\n",
    "    for animal in data['Category'] :\n",
    "        if (animal not in classes) : \n",
    "            classes.append(animal)\n",
    "        \n",
    "    return classes"
   ]
  },
  {
   "cell_type": "code",
   "execution_count": 10,
   "metadata": {},
   "outputs": [],
   "source": [
    "def get_splitted_data_with_size(image_size, sample_size, test_ratio, classes, seed):\n",
    "    X, Y = [], []\n",
    "    for label, animal in enumerate(classes):\n",
    "        files = listdir(path.join('./data/data_train', animal))\n",
    "        random.shuffle(files)\n",
    "        files = files[:(sample_size // len(classes))]\n",
    "        for file in files:\n",
    "            img = load_img(path.join('./data/data_train', animal, file), \n",
    "                           target_size=image_size)\n",
    "            X.append(img_to_array(img))\n",
    "            Y.append(label)\n",
    "    return train_test_split(np.asarray(X), np.asarray(Y), test_size=test_ratio, random_state=seed)"
   ]
  },
  {
   "cell_type": "code",
   "execution_count": 91,
   "metadata": {},
   "outputs": [],
   "source": [
    "image_size = (32, 32, 3)\n",
    "keras_size = (224, 224, 3)\n",
    "sample_size = 1000\n",
    "classes = get_classes()\n",
    "\n",
    "X_tr, X_val, y_tr, y_val = get_splitted_data_with_size(\n",
    "    image_size=keras_size, sample_size=sample_size, test_ratio=0.25, classes=classes, seed=42\n",
    ")"
   ]
  },
  {
   "cell_type": "code",
   "execution_count": 92,
   "metadata": {},
   "outputs": [
    {
     "data": {
      "text/plain": [
       "((742, 224, 224, 3), (248, 224, 224, 3), (742,), (248,))"
      ]
     },
     "execution_count": 92,
     "metadata": {},
     "output_type": "execute_result"
    }
   ],
   "source": [
    "X_tr.shape, X_val.shape, y_tr.shape, y_val.shape"
   ]
  },
  {
   "cell_type": "code",
   "execution_count": 93,
   "metadata": {},
   "outputs": [
    {
     "name": "stdout",
     "output_type": "stream",
     "text": [
      "chimpanzee\n"
     ]
    },
    {
     "data": {
      "image/png": "[encoded data removed]",
      "text/plain": [
       "<Figure size 432x288 with 1 Axes>"
      ]
     },
     "metadata": {
      "needs_background": "light"
     },
     "output_type": "display_data"
    }
   ],
   "source": [
    "show(X_tr[1])\n",
    "print(classes[y_tr[1]])"
   ]
  },
  {
   "cell_type": "code",
   "execution_count": 94,
   "metadata": {},
   "outputs": [],
   "source": [
    "def conv(v):\n",
    "    v2 = [s.strip('.jpg') for s in v] # remove the .jpg from the string borders \n",
    "    v2 = list(map(int, v2))\n",
    "    return v2"
   ]
  },
  {
   "cell_type": "code",
   "execution_count": 95,
   "metadata": {},
   "outputs": [],
   "source": [
    "def int_to_imagepath (v):\n",
    "    v1 = list(map(str, v))\n",
    "    #print (v1)\n",
    "    v1 = [s.replace(s,s+\".jpg\") for s in v1] \n",
    "    return v1"
   ]
  },
  {
   "cell_type": "code",
   "execution_count": 96,
   "metadata": {},
   "outputs": [
    {
     "name": "stdout",
     "output_type": "stream",
     "text": [
      "X_test lenght :  1800\n"
     ]
    }
   ],
   "source": [
    "X_test = []\n",
    "files = []\n",
    "files_test = listdir(path.join(GLOBAL_DATA_PATH, \"data_test\"))\n",
    "files2_test = conv(files_test) # convertion string to int\n",
    "files3_test = sorted(files2_test) # classement ordre croissant\n",
    "files4_test = int_to_imagepath (files3_test)\n",
    "\n",
    "for file in files4_test:\n",
    "    img = load_img(path.join(GLOBAL_DATA_PATH, \"data_train\", file))\n",
    "    X_test.append(img_to_array(img))\n",
    "\n",
    "print(\"X_test lenght : \",len(X_test))"
   ]
  },
  {
   "cell_type": "markdown",
   "metadata": {},
   "source": [
    "### MODEL : VIA RESNET 50 "
   ]
  },
  {
   "cell_type": "code",
   "execution_count": 97,
   "metadata": {},
   "outputs": [],
   "source": [
    "import numpy as np\n",
    "from keras.applications.resnet50 import ResNet50, preprocess_input, decode_predictions\n",
    "from keras.models import Model\n",
    "from keras.preprocessing import image\n",
    "from skimage.transform import resize\n",
    "from skimage.io import imread"
   ]
  },
  {
   "cell_type": "code",
   "execution_count": 98,
   "metadata": {},
   "outputs": [],
   "source": [
    " #Basic Implementation of resnet model\n",
    "model_ResNet50 = ResNet50(include_top=True, weights='imagenet')\n",
    "#model_ResNet50.summary()"
   ]
  },
  {
   "cell_type": "code",
   "execution_count": 99,
   "metadata": {},
   "outputs": [
    {
     "data": {
      "image/png": "[encoded data removed]",
      "text/plain": [
       "<Figure size 432x288 with 1 Axes>"
      ]
     },
     "metadata": {
      "needs_background": "light"
     },
     "output_type": "display_data"
    }
   ],
   "source": [
    "#We will resized the unique image to resnet image \n",
    "resnet_input_size = (224,224)\n",
    "img = X_tr[1]\n",
    "img_resized = resize(img, resnet_input_size, mode='reflect', preserve_range=True)\n",
    "show(img_resized)"
   ]
  },
  {
   "cell_type": "code",
   "execution_count": 100,
   "metadata": {},
   "outputs": [
    {
     "name": "stdout",
     "output_type": "stream",
     "text": [
      "Dandie_Dinmont 0.10801066\n",
      "window_screen 0.083478376\n",
      "Bouvier_des_Flandres 0.07704086\n",
      "affenpinscher 0.07352205\n",
      "hog 0.059687246\n"
     ]
    }
   ],
   "source": [
    "#Print prediction of the unique image \n",
    "x = image.img_to_array(img_resized)\n",
    "x = np.expand_dims(x, axis=0)\n",
    "x = preprocess_input(x)\n",
    "preds = model_ResNet50.predict(x)\n",
    "        \n",
    "decoded_predictions = decode_predictions(preds)\n",
    "\n",
    "if decoded_predictions:\n",
    "    for _, name, score in decoded_predictions[0]:\n",
    "        print(name, score)"
   ]
  },
  {
   "cell_type": "code",
   "execution_count": 101,
   "metadata": {},
   "outputs": [],
   "source": [
    "model_ResNet50.compile(optimizer='adam',loss='binary_crossentropy',metrics=['accuracy'])"
   ]
  },
  {
   "cell_type": "code",
   "execution_count": 102,
   "metadata": {},
   "outputs": [],
   "source": [
    "#print(X_tr)\n",
    "#print(y_tr)"
   ]
  },
  {
   "cell_type": "code",
   "execution_count": 103,
   "metadata": {},
   "outputs": [
    {
     "name": "stdout",
     "output_type": "stream",
     "text": [
      "742/742 [==============================] - 570s 768ms/step\n",
      "248/248 [==============================] - 186s 749ms/step\n",
      "Done extracting resnet50 features..\n"
     ]
    }
   ],
   "source": [
    "if model_ResNet50:\n",
    "    X_extracted_tr = model_ResNet50.predict(preprocess_input(X_tr), verbose=1)\n",
    "    X_extracted_val = model_ResNet50.predict(preprocess_input(X_val), verbose=1)\n",
    "    print('Done extracting resnet50 features..')"
   ]
  },
  {
   "cell_type": "code",
   "execution_count": 104,
   "metadata": {},
   "outputs": [
    {
     "name": "stdout",
     "output_type": "stream",
     "text": [
      "X_extracted_tr :  742 1000\n",
      "X_extracted_tr :  742 224 224 3\n"
     ]
    }
   ],
   "source": [
    "print(\"X_extracted_tr : \", len(X_extracted_tr), len(X_extracted_tr[0]))\n",
    "print(\"X_extracted_tr : \", len(X_tr), len(X_tr[0]),len(X_tr[0][0]),len(X_tr[0][0][0]))"
   ]
  },
  {
   "cell_type": "code",
   "execution_count": 105,
   "metadata": {},
   "outputs": [
    {
     "name": "stdout",
     "output_type": "stream",
     "text": [
      "Train on 742 samples, validate on 248 samples\n",
      "Epoch 1/20\n",
      "742/742 [==============================] - 10s 13ms/step - loss: 0.5267 - acc: 0.0714 - val_loss: 0.1626 - val_acc: 0.0685\n",
      "Epoch 2/20\n",
      "742/742 [==============================] - 0s 361us/step - loss: -0.0686 - acc: 0.0660 - val_loss: -0.4558 - val_acc: 0.0685\n",
      "Epoch 3/20\n",
      "742/742 [==============================] - 0s 356us/step - loss: -0.6919 - acc: 0.0660 - val_loss: -1.1459 - val_acc: 0.0685\n",
      "Epoch 4/20\n",
      "742/742 [==============================] - 0s 349us/step - loss: -1.4004 - acc: 0.0660 - val_loss: -1.9213 - val_acc: 0.0685\n",
      "Epoch 5/20\n",
      "742/742 [==============================] - 0s 353us/step - loss: -2.2064 - acc: 0.0660 - val_loss: -2.7837 - val_acc: 0.0685\n",
      "Epoch 6/20\n",
      "742/742 [==============================] - 0s 341us/step - loss: -3.1298 - acc: 0.0660 - val_loss: -3.7402 - val_acc: 0.0685\n",
      "Epoch 7/20\n",
      "742/742 [==============================] - 0s 352us/step - loss: -4.0733 - acc: 0.0660 - val_loss: -4.7923 - val_acc: 0.0685\n",
      "Epoch 8/20\n",
      "742/742 [==============================] - 0s 345us/step - loss: -5.2083 - acc: 0.0660 - val_loss: -5.9430 - val_acc: 0.0685\n",
      "Epoch 9/20\n",
      "742/742 [==============================] - 0s 355us/step - loss: -6.3295 - acc: 0.0660 - val_loss: -7.2017 - val_acc: 0.0685\n",
      "Epoch 10/20\n",
      "742/742 [==============================] - 0s 344us/step - loss: -7.5802 - acc: 0.0660 - val_loss: -8.5630 - val_acc: 0.0685\n",
      "Epoch 11/20\n",
      "742/742 [==============================] - 0s 345us/step - loss: -9.0672 - acc: 0.0660 - val_loss: -10.0452 - val_acc: 0.0685\n",
      "Epoch 12/20\n",
      "742/742 [==============================] - 0s 345us/step - loss: -10.6205 - acc: 0.0660 - val_loss: -11.6581 - val_acc: 0.0685\n",
      "Epoch 13/20\n",
      "742/742 [==============================] - 0s 359us/step - loss: -12.1930 - acc: 0.0660 - val_loss: -13.3878 - val_acc: 0.0685\n",
      "Epoch 14/20\n",
      "742/742 [==============================] - 0s 348us/step - loss: -14.0927 - acc: 0.0660 - val_loss: -15.2625 - val_acc: 0.0685\n",
      "Epoch 15/20\n",
      "742/742 [==============================] - 0s 347us/step - loss: -15.6863 - acc: 0.0660 - val_loss: -17.2506 - val_acc: 0.0685\n",
      "Epoch 16/20\n",
      "742/742 [==============================] - 0s 348us/step - loss: -17.6731 - acc: 0.0660 - val_loss: -19.3660 - val_acc: 0.0685\n",
      "Epoch 17/20\n",
      "742/742 [==============================] - 0s 345us/step - loss: -20.0243 - acc: 0.0660 - val_loss: -21.6169 - val_acc: 0.0685\n",
      "Epoch 18/20\n",
      "742/742 [==============================] - 0s 345us/step - loss: -22.4864 - acc: 0.0660 - val_loss: -24.0149 - val_acc: 0.0685\n",
      "Epoch 19/20\n",
      "742/742 [==============================] - 0s 312us/step - loss: -24.5301 - acc: 0.0660 - val_loss: -26.5475 - val_acc: 0.0685\n",
      "Epoch 20/20\n",
      "742/742 [==============================] - 0s 326us/step - loss: -27.2769 - acc: 0.0660 - val_loss: -29.2575 - val_acc: 0.0685\n",
      "Training complete\n"
     ]
    }
   ],
   "source": [
    "from keras.models import Sequential\n",
    "from keras.layers import Dense, Dropout\n",
    "from keras.optimizers import Adam\n",
    "\n",
    "batch_size = 128\n",
    "num_epochs = 20\n",
    "\n",
    "# TODO:\n",
    "transfer_model = Sequential()\n",
    "\n",
    "transfer_model.add(Dropout(0.5))\n",
    "transfer_model.add(Dense(128, activation = 'relu'))\n",
    "transfer_model.add(Dense(1, activation = 'sigmoid'))\n",
    "    \n",
    "    \n",
    "transfer_model.compile(optimizer='adam',loss='binary_crossentropy',metrics=['accuracy'])\n",
    "\n",
    "# The fit function allows you to fit the compiled model to some training data\n",
    "if transfer_model:\n",
    "    model_history_3 = transfer_model.fit(\n",
    "        x=X_extracted_tr, \n",
    "        y=y_tr, \n",
    "        batch_size=batch_size, \n",
    "        epochs=num_epochs,\n",
    "        verbose=1,\n",
    "        validation_data=(X_extracted_val, y_val)\n",
    "    )\n",
    "    print('Training complete')\n",
    "else:\n",
    "    model_history_3 = None\n",
    " "
   ]
  },
  {
   "cell_type": "code",
   "execution_count": 61,
   "metadata": {},
   "outputs": [
    {
     "ename": "AssertionError",
     "evalue": "",
     "output_type": "error",
     "traceback": [
      "\u001b[0;31m---------------------------------------------------------------------------\u001b[0m",
      "\u001b[0;31mAssertionError\u001b[0m                            Traceback (most recent call last)",
      "\u001b[0;32m<ipython-input-61-fb70e1f115f3>\u001b[0m in \u001b[0;36m<module>\u001b[0;34m\u001b[0m\n\u001b[1;32m     20\u001b[0m         \u001b[0my\u001b[0m\u001b[0;34m=\u001b[0m\u001b[0my_train\u001b[0m\u001b[0;34m[\u001b[0m\u001b[0;34m'Category'\u001b[0m\u001b[0;34m]\u001b[0m\u001b[0;34m,\u001b[0m\u001b[0;34m\u001b[0m\u001b[0m\n\u001b[1;32m     21\u001b[0m         \u001b[0mbatch_size\u001b[0m\u001b[0;34m=\u001b[0m\u001b[0;36m20\u001b[0m\u001b[0;34m,\u001b[0m\u001b[0;34m\u001b[0m\u001b[0m\n\u001b[0;32m---> 22\u001b[0;31m         epochs=20)\n\u001b[0m\u001b[1;32m     23\u001b[0m         \u001b[0;31m#verbose=1\u001b[0m\u001b[0;34m\u001b[0m\u001b[0;34m\u001b[0m\u001b[0m\n\u001b[1;32m     24\u001b[0m         \u001b[0;31m#validation_data=(X_extracted_val, Y_val)\u001b[0m\u001b[0;34m\u001b[0m\u001b[0;34m\u001b[0m\u001b[0m\n",
      "\u001b[0;32m~/.local/lib/python3.6/site-packages/keras/engine/training.py\u001b[0m in \u001b[0;36mfit\u001b[0;34m(self, x, y, batch_size, epochs, verbose, callbacks, validation_split, validation_data, shuffle, class_weight, sample_weight, initial_epoch, steps_per_epoch, validation_steps, **kwargs)\u001b[0m\n\u001b[1;32m    950\u001b[0m             \u001b[0msample_weight\u001b[0m\u001b[0;34m=\u001b[0m\u001b[0msample_weight\u001b[0m\u001b[0;34m,\u001b[0m\u001b[0;34m\u001b[0m\u001b[0m\n\u001b[1;32m    951\u001b[0m             \u001b[0mclass_weight\u001b[0m\u001b[0;34m=\u001b[0m\u001b[0mclass_weight\u001b[0m\u001b[0;34m,\u001b[0m\u001b[0;34m\u001b[0m\u001b[0m\n\u001b[0;32m--> 952\u001b[0;31m             batch_size=batch_size)\n\u001b[0m\u001b[1;32m    953\u001b[0m         \u001b[0;31m# Prepare validation data.\u001b[0m\u001b[0;34m\u001b[0m\u001b[0;34m\u001b[0m\u001b[0m\n\u001b[1;32m    954\u001b[0m         \u001b[0mdo_validation\u001b[0m \u001b[0;34m=\u001b[0m \u001b[0;32mFalse\u001b[0m\u001b[0;34m\u001b[0m\u001b[0m\n",
      "\u001b[0;32m~/.local/lib/python3.6/site-packages/keras/engine/training.py\u001b[0m in \u001b[0;36m_standardize_user_data\u001b[0;34m(self, x, y, sample_weight, class_weight, check_array_lengths, batch_size)\u001b[0m\n\u001b[1;32m    675\u001b[0m             \u001b[0;31m# to match the value shapes.\u001b[0m\u001b[0;34m\u001b[0m\u001b[0;34m\u001b[0m\u001b[0m\n\u001b[1;32m    676\u001b[0m             \u001b[0;32mif\u001b[0m \u001b[0;32mnot\u001b[0m \u001b[0mself\u001b[0m\u001b[0;34m.\u001b[0m\u001b[0minputs\u001b[0m\u001b[0;34m:\u001b[0m\u001b[0;34m\u001b[0m\u001b[0m\n\u001b[0;32m--> 677\u001b[0;31m                 \u001b[0mself\u001b[0m\u001b[0;34m.\u001b[0m\u001b[0m_set_inputs\u001b[0m\u001b[0;34m(\u001b[0m\u001b[0mx\u001b[0m\u001b[0;34m)\u001b[0m\u001b[0;34m\u001b[0m\u001b[0m\n\u001b[0m\u001b[1;32m    678\u001b[0m \u001b[0;34m\u001b[0m\u001b[0m\n\u001b[1;32m    679\u001b[0m         \u001b[0;32mif\u001b[0m \u001b[0my\u001b[0m \u001b[0;32mis\u001b[0m \u001b[0;32mnot\u001b[0m \u001b[0;32mNone\u001b[0m\u001b[0;34m:\u001b[0m\u001b[0;34m\u001b[0m\u001b[0m\n",
      "\u001b[0;32m~/.local/lib/python3.6/site-packages/keras/engine/training.py\u001b[0m in \u001b[0;36m_set_inputs\u001b[0;34m(self, inputs, outputs, training)\u001b[0m\n\u001b[1;32m    585\u001b[0m             \u001b[0;31m# since `Sequential` depends on `Model`.\u001b[0m\u001b[0;34m\u001b[0m\u001b[0;34m\u001b[0m\u001b[0m\n\u001b[1;32m    586\u001b[0m             \u001b[0;32mif\u001b[0m \u001b[0misinstance\u001b[0m\u001b[0;34m(\u001b[0m\u001b[0minputs\u001b[0m\u001b[0;34m,\u001b[0m \u001b[0mlist\u001b[0m\u001b[0;34m)\u001b[0m\u001b[0;34m:\u001b[0m\u001b[0;34m\u001b[0m\u001b[0m\n\u001b[0;32m--> 587\u001b[0;31m                 \u001b[0;32massert\u001b[0m \u001b[0mlen\u001b[0m\u001b[0;34m(\u001b[0m\u001b[0minputs\u001b[0m\u001b[0;34m)\u001b[0m \u001b[0;34m==\u001b[0m \u001b[0;36m1\u001b[0m\u001b[0;34m\u001b[0m\u001b[0m\n\u001b[0m\u001b[1;32m    588\u001b[0m                 \u001b[0minputs\u001b[0m \u001b[0;34m=\u001b[0m \u001b[0minputs\u001b[0m\u001b[0;34m[\u001b[0m\u001b[0;36m0\u001b[0m\u001b[0;34m]\u001b[0m\u001b[0;34m\u001b[0m\u001b[0m\n\u001b[1;32m    589\u001b[0m             \u001b[0mself\u001b[0m\u001b[0;34m.\u001b[0m\u001b[0mbuild\u001b[0m\u001b[0;34m(\u001b[0m\u001b[0minput_shape\u001b[0m\u001b[0;34m=\u001b[0m\u001b[0;34m(\u001b[0m\u001b[0;32mNone\u001b[0m\u001b[0;34m,\u001b[0m\u001b[0;34m)\u001b[0m \u001b[0;34m+\u001b[0m \u001b[0minputs\u001b[0m\u001b[0;34m.\u001b[0m\u001b[0mshape\u001b[0m\u001b[0;34m[\u001b[0m\u001b[0;36m1\u001b[0m\u001b[0;34m:\u001b[0m\u001b[0;34m]\u001b[0m\u001b[0;34m)\u001b[0m\u001b[0;34m\u001b[0m\u001b[0m\n",
      "\u001b[0;31mAssertionError\u001b[0m: "
     ]
    }
   ],
   "source": [
    "from keras.models import Sequential\n",
    "from keras.layers import Dense, Dropout\n",
    "from keras.optimizers import Adam\n",
    "\n",
    "batch_size = 128\n",
    "num_epochs = 20\n",
    "\n",
    "model = Sequential()\n",
    "\n",
    "model.add(Dropout(0.5))\n",
    "model.add(Dense(128, activation = 'relu'))\n",
    "model.add(Dense(1, activation = 'sigmoid'))\n",
    "    \n",
    "model.compile(optimizer='adam',loss='binary_crossentropy',metrics=['accuracy'])\n",
    "\n",
    "# The fit function allows you to fit the compiled model to some training data\n",
    "if model:\n",
    "    model_history = model.fit(\n",
    "        x=X_train, \n",
    "        y=y_train['Category'], \n",
    "        batch_size=20, \n",
    "        epochs=20)\n",
    "        #verbose=1\n",
    "        #validation_data=(X_extracted_val, Y_val)\n",
    "    \n",
    "    print('Training complete')\n",
    "else:\n",
    "    model_history = None"
   ]
  }
 ],
 "metadata": {
  "kernelspec": {
   "display_name": "Python 3",
   "language": "python",
   "name": "python3"
  },
  "language_info": {
   "codemirror_mode": {
    "name": "ipython",
    "version": 3
   },
   "file_extension": ".py",
   "mimetype": "text/x-python",
   "name": "python",
   "nbconvert_exporter": "python",
   "pygments_lexer": "ipython3",
   "version": "3.6.6"
  }
 },
 "nbformat": 4,
 "nbformat_minor": 2
}
