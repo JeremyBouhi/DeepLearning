{
 "cells": [
  {
   "cell_type": "markdown",
   "metadata": {},
   "source": [
    "### 1)Extraction des données "
   ]
  },
  {
   "cell_type": "code",
   "execution_count": 10,
   "metadata": {},
   "outputs": [],
   "source": [
    "import os\n",
    "from os import listdir, path\n",
    "import tarfile\n",
    "import random\n",
    "import numpy as np\n",
    "import keras\n",
    "from keras.preprocessing.image import img_to_array, load_img\n",
    "import tensorflow as tf\n",
    "import matplotlib.pyplot as plt\n",
    "from skimage.io import imread\n",
    "from sklearn.preprocessing import MinMaxScaler\n",
    "from sklearn.model_selection import train_test_split"
   ]
  },
  {
   "cell_type": "code",
   "execution_count": 9,
   "metadata": {},
   "outputs": [
    {
     "name": "stdout",
     "output_type": "stream",
     "text": [
      "Extracting train image files...\n"
     ]
    }
   ],
   "source": [
    "if not path.exists('data/data_test/'):\n",
    "    print('Extracting test image files...')\n",
    "    tar = tarfile.open(\"./data/data_test.tar.gz\", \"r:gz\")\n",
    "    tar.extractall('data/')\n",
    "if not path.exists('data/data_train/'):\n",
    "    print('Extracting train image files...')\n",
    "    tar = tarfile.open(\"./data/data_train.tar.gz\", \"r:gz\")\n",
    "    tar.extractall('data/')\n"
   ]
  },
  {
   "cell_type": "markdown",
   "metadata": {},
   "source": [
    "### Display utility functions"
   ]
  },
  {
   "cell_type": "code",
   "execution_count": 11,
   "metadata": {},
   "outputs": [],
   "source": [
    "def show(image):\n",
    "    plt.imshow(np.squeeze(image.astype(\"uint8\")), cmap=\"gray\")\n",
    "    plt.title(\"image shape: \"+ str(image.shape), fontsize=14)\n",
    "    plt.axis('off');\n",
    "    \n",
    "def show_multiple(images, figsize):\n",
    "    fig, ax = plt.subplots(ncols=len(images), figsize=figsize)\n",
    "    for col, image in zip(ax, images):\n",
    "        col.imshow(np.squeeze(image.astype(\"uint8\")), cmap=\"gray\")\n",
    "        col.set_title(\"image shape: \"+ str(image.shape), fontsize=14)\n",
    "    plt.tight_layout()\n",
    "    plt.axis('off');"
   ]
  },
  {
   "cell_type": "code",
   "execution_count": 13,
   "metadata": {},
   "outputs": [
    {
     "data": {
      "image/png": "[encoded data removed]",
      "text/plain": [
       "<Figure size 432x288 with 1 Axes>"
      ]
     },
     "metadata": {
      "needs_background": "light"
     },
     "output_type": "display_data"
    }
   ],
   "source": [
    "sample_image = imread(\"./data/data_train/10.jpg\")\n",
    "show(sample_image)"
   ]
  },
  {
   "cell_type": "code",
   "execution_count": null,
   "metadata": {},
   "outputs": [],
   "source": []
  }
 ],
 "metadata": {
  "kernelspec": {
   "display_name": "Python 3",
   "language": "python",
   "name": "python3"
  },
  "language_info": {
   "codemirror_mode": {
    "name": "ipython",
    "version": 3
   },
   "file_extension": ".py",
   "mimetype": "text/x-python",
   "name": "python",
   "nbconvert_exporter": "python",
   "pygments_lexer": "ipython3",
   "version": "3.6.6"
  }
 },
 "nbformat": 4,
 "nbformat_minor": 2
}
