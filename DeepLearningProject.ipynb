{
 "cells": [
  {
   "cell_type": "markdown",
   "metadata": {},
   "source": [
    "### 1)Extraction des données "
   ]
  },
  {
   "cell_type": "code",
   "execution_count": 1,
   "metadata": {},
   "outputs": [
    {
     "name": "stderr",
     "output_type": "stream",
     "text": [
      "Using TensorFlow backend.\n"
     ]
    }
   ],
   "source": [
    "import os\n",
    "from os import listdir, path\n",
    "import tarfile\n",
    "import random\n",
    "import numpy as np\n",
    "import keras \n",
    "from keras.preprocessing.image import img_to_array, load_img\n",
    "import tensorflow as tf\n",
    "import matplotlib.pyplot as plt\n",
    "from skimage.io import imread\n",
    "from sklearn.preprocessing import MinMaxScaler\n",
    "from sklearn.model_selection import train_test_split"
   ]
  },
  {
   "cell_type": "code",
   "execution_count": null,
   "metadata": {},
   "outputs": [],
   "source": []
  },
  {
   "cell_type": "code",
   "execution_count": 2,
   "metadata": {},
   "outputs": [],
   "source": [
    "#attention au path bien avoir une hierarchie : data -> Dossier suivant dans data : data_test.tar.gz ,data_train.tar.gz, data_train.csv \n",
    "if not path.exists('data/data_test/'):\n",
    "    print('Extracting test image files...')\n",
    "    tar = tarfile.open(\"./data/data_test.tar.gz\", \"r:gz\")\n",
    "    tar.extractall('data/')\n",
    "if not path.exists('data/data_train/'):\n",
    "    print('Extracting train image files...')\n",
    "    tar = tarfile.open(\"./data/data_train.tar.gz\", \"r:gz\")\n",
    "    tar.extractall('data/')"
   ]
  },
  {
   "cell_type": "markdown",
   "metadata": {},
   "source": [
    "### Display utility functions"
   ]
  },
  {
   "cell_type": "code",
   "execution_count": 2,
   "metadata": {},
   "outputs": [],
   "source": [
    "def show(image):\n",
    "    plt.imshow(np.squeeze(image.astype(\"uint8\")), cmap=\"gray\")\n",
    "    plt.title(\"image shape: \"+ str(image.shape), fontsize=14)\n",
    "    plt.axis('off');\n",
    "    \n",
    "def show_multiple(images, figsize):\n",
    "    fig, ax = plt.subplots(ncols=len(images), figsize=figsize)\n",
    "    for col, image in zip(ax, images):\n",
    "        col.imshow(np.squeeze(image.astype(\"uint8\")), cmap=\"gray\")\n",
    "        col.set_title(\"image shape: \"+ str(image.shape), fontsize=14)\n",
    "    plt.tight_layout()\n",
    "    plt.axis('off');"
   ]
  },
  {
   "cell_type": "code",
   "execution_count": 3,
   "metadata": {},
   "outputs": [
    {
     "data": {
      "image/png": "[encoded data removed]",
      "text/plain": [
       "<Figure size 432x288 with 1 Axes>"
      ]
     },
     "metadata": {
      "needs_background": "light"
     },
     "output_type": "display_data"
    }
   ],
   "source": [
    "sample_image = imread(\"./data/data_train/10.jpg\")\n",
    "show(sample_image)"
   ]
  },
  {
   "cell_type": "markdown",
   "metadata": {},
   "source": [
    "### Importer les Images (Train and Test) et les trier afin qu'elles soient en adéquation avec le fichier CSV"
   ]
  },
  {
   "cell_type": "code",
   "execution_count": 3,
   "metadata": {},
   "outputs": [],
   "source": [
    "import pandas as pd\n",
    "\n",
    "def load_data(data_path):\n",
    "    csv_path = os.path.join(data_path, \"labels_train.csv\")\n",
    "    return pd.read_csv(csv_path) # note the returned variable"
   ]
  },
  {
   "cell_type": "code",
   "execution_count": 4,
   "metadata": {},
   "outputs": [],
   "source": [
    "GLOBAL_DATA_PATH = \"./data\"\n",
    "data = load_data(GLOBAL_DATA_PATH) #Pemet de charger les données du CSV\n",
    "#y_train = load_data(GLOBAL_DATA_PATH)"
   ]
  },
  {
   "cell_type": "code",
   "execution_count": 5,
   "metadata": {},
   "outputs": [],
   "source": [
    "import shutil, os\n",
    "\n",
    "def split_img_in_subfolders(data) :\n",
    "    for i in range(data.shape[0]) : \n",
    "        animal_folder_path = os.path.join('./','data', 'data_train', data['Category'][i])\n",
    "        \n",
    "        # Create folder if doesn't exist \n",
    "        if not path.exists(animal_folder_path):\n",
    "            os.mkdir(animal_folder_path)\n",
    "            \n",
    "        # Copy the img in the associated folder    \n",
    "        shutil.copy(os.path.join('./', 'data', 'data_train', str(data['Id'][i])) +'.jpg', os.path.join(animal_folder_path , str(data['Id'][i]) +'.jpg'))"
   ]
  },
  {
   "cell_type": "code",
   "execution_count": 8,
   "metadata": {},
   "outputs": [],
   "source": [
    "#split_img_in_subfolders(data)"
   ]
  },
  {
   "cell_type": "code",
   "execution_count": 5,
   "metadata": {},
   "outputs": [],
   "source": [
    "def get_classes() :\n",
    "    classes = []\n",
    "    for animal in data['Category'] :\n",
    "        if (animal not in classes) : \n",
    "            classes.append(animal)\n",
    "        \n",
    "    return classes"
   ]
  },
  {
   "cell_type": "code",
   "execution_count": 6,
   "metadata": {},
   "outputs": [],
   "source": [
    "def get_splitted_data_with_size(image_size, sample_size, test_ratio, classes, seed):\n",
    "    X, Y = [], []\n",
    "    for label, animal in enumerate(classes):\n",
    "        files = listdir(path.join('./data/data_train', animal))\n",
    "        random.shuffle(files)\n",
    "        files = files[:(sample_size // len(classes))]\n",
    "        for file in files:\n",
    "            img = load_img(path.join('./data/data_train', animal, file), \n",
    "                           target_size=image_size)\n",
    "            X.append(img_to_array(img))\n",
    "            Y.append(label)\n",
    "            \n",
    "    return train_test_split(np.asarray(X), np.asarray(Y), test_size=test_ratio, random_state=seed)"
   ]
  },
  {
   "cell_type": "code",
   "execution_count": 8,
   "metadata": {},
   "outputs": [
    {
     "data": {
      "text/plain": [
       "(7200, 2)"
      ]
     },
     "execution_count": 8,
     "metadata": {},
     "output_type": "execute_result"
    }
   ],
   "source": [
    "data.shape"
   ]
  },
  {
   "cell_type": "code",
   "execution_count": null,
   "metadata": {},
   "outputs": [],
   "source": [
    "image_size = (100, 100, 3)\n",
    "keras_size = (224, 224, 3)\n",
    "sample_size = 2000\n",
    "#sample_size = 400\n",
    "classes = get_classes()\n",
    "\n",
    "X_tr, X_val, y_tr, y_val = get_splitted_data_with_size(\n",
    "    image_size=image_size, sample_size=sample_size, test_ratio=0.25, classes=classes, seed=42\n",
    ")"
   ]
  },
  {
   "cell_type": "code",
   "execution_count": 8,
   "metadata": {},
   "outputs": [
    {
     "data": {
      "text/plain": [
       "((742, 75, 75, 3), (248, 75, 75, 3), (742,), (248,))"
      ]
     },
     "execution_count": 8,
     "metadata": {},
     "output_type": "execute_result"
    }
   ],
   "source": [
    "X_tr.shape, X_val.shape, y_tr.shape, y_val.shape"
   ]
  },
  {
   "cell_type": "code",
   "execution_count": 14,
   "metadata": {},
   "outputs": [
    {
     "data": {
      "text/plain": [
       "15"
      ]
     },
     "execution_count": 14,
     "metadata": {},
     "output_type": "execute_result"
    }
   ],
   "source": [
    "len(classes)"
   ]
  },
  {
   "cell_type": "code",
   "execution_count": 8,
   "metadata": {},
   "outputs": [
    {
     "name": "stdout",
     "output_type": "stream",
     "text": [
      "dolphin\n"
     ]
    },
    {
     "data": {
      "image/png": "[encoded data removed]",
      "text/plain": [
       "<Figure size 432x288 with 1 Axes>"
      ]
     },
     "metadata": {
      "needs_background": "light"
     },
     "output_type": "display_data"
    }
   ],
   "source": [
    "show(X_tr[4])\n",
    "print(classes[y_tr[4]])"
   ]
  },
  {
   "cell_type": "code",
   "execution_count": 9,
   "metadata": {},
   "outputs": [
    {
     "name": "stdout",
     "output_type": "stream",
     "text": [
      "chimpanzee\n"
     ]
    },
    {
     "data": {
      "image/png": "[encoded data removed]",
      "text/plain": [
       "<Figure size 432x288 with 1 Axes>"
      ]
     },
     "metadata": {
      "needs_background": "light"
     },
     "output_type": "display_data"
    }
   ],
   "source": [
    "show(X_val[4])\n",
    "print(classes[y_val[4]])"
   ]
  },
  {
   "cell_type": "markdown",
   "metadata": {},
   "source": [
    "### MODEL : VIA RESNET 50 "
   ]
  },
  {
   "cell_type": "code",
   "execution_count": 8,
   "metadata": {},
   "outputs": [],
   "source": [
    "from keras.applications.inception_v3 import InceptionV3, preprocess_input\n",
    "\n",
    "#train_datagen = ImageDataGenerator() \n",
    "#train_generator = train_datagen.flow_from_directory(my_input_dir, target_size=(150,150),shuffle=False, batch_size=16)\n",
    "\n",
    "    # get bottleneck features\n",
    "    # use pre-trained model and exclude top layer - which is used for classification\n",
    "pretrained_model = InceptionV3(include_top=False, weights='imagenet', input_shape=X_tr.shape[1:], pooling='avg')\n",
    "#bottleneck_features_train_v1 = pretrained_model.predict_generator(tr_generator,len(tr_generator.filenames)//16, pooling='avg')"
   ]
  },
  {
   "cell_type": "code",
   "execution_count": 21,
   "metadata": {},
   "outputs": [
    {
     "data": {
      "text/plain": [
       "(75, 75, 3)"
      ]
     },
     "execution_count": 21,
     "metadata": {},
     "output_type": "execute_result"
    }
   ],
   "source": [
    "X_tr.shape[1:]"
   ]
  },
  {
   "cell_type": "code",
   "execution_count": 26,
   "metadata": {},
   "outputs": [
    {
     "data": {
      "text/plain": [
       "(1800, 32, 32, 3)"
      ]
     },
     "execution_count": 26,
     "metadata": {},
     "output_type": "execute_result"
    }
   ],
   "source": [
    "np.asarray(X_test).shape"
   ]
  },
  {
   "cell_type": "code",
   "execution_count": 13,
   "metadata": {},
   "outputs": [
    {
     "name": "stdout",
     "output_type": "stream",
     "text": [
      "1496/1496 [==============================] - 30s 20ms/step\n",
      "499/499 [==============================] - 10s 20ms/step\n",
      "Done extracting Inception V3 features..\n"
     ]
    }
   ],
   "source": [
    "if pretrained_model : \n",
    "    X_pretrained_tr = pretrained_model.predict(preprocess_input(X_tr), verbose=1)\n",
    "    X_pretrained_val = pretrained_model.predict(preprocess_input(X_val), verbose=1)\n",
    "    \n",
    "    print('Done extracting Inception V3 features..')"
   ]
  },
  {
   "cell_type": "code",
   "execution_count": 14,
   "metadata": {},
   "outputs": [],
   "source": [
    "from keras.models import Sequential\n",
    "from keras.layers import Dense, Dropout, Flatten, Conv2D, MaxPooling2D, Activation, BatchNormalization, GlobalAveragePooling2D\n",
    "from keras import optimizers\n",
    "from keras import utils as np_utils\n",
    "\n",
    "\n",
    "\n",
    "model = Sequential()\n",
    "\n",
    "\"\"\"\n",
    "\n",
    "model.add(Conv2D(64, (2, 2), padding='SAME')) \n",
    "model.add(Activation('relu')) \n",
    "model.add(BatchNormalization())\n",
    "model.add(MaxPooling2D(pool_size=(2, 2)))\n",
    "\n",
    "model.add(Conv2D(64, (2, 2), padding='SAME')) \n",
    "model.add(Activation('relu')) \n",
    "model.add(BatchNormalization())\n",
    "model.add(MaxPooling2D(pool_size=(2, 2)))\"\"\"\n",
    "\n",
    "\n",
    "\"\"\"\n",
    "model.add(Conv2D(128, (4, 4), padding='SAME')) \n",
    "model.add(Activation('relu')) \n",
    "model.add(BatchNormalization())\n",
    "model.add(MaxPooling2D(pool_size=(2, 2)))\n",
    "\n",
    "model.add(Conv2D(256, (3, 3), padding='SAME')) \n",
    "model.add(Activation('relu')) \n",
    "model.add(BatchNormalization())\n",
    "model.add(MaxPooling2D(pool_size=(2, 2)))\"\"\"\n",
    "\n",
    "\n",
    "#model.add(Flatten())\n",
    "#model.add(Dense(256, activation='relu'))\n",
    "#model.add(Dropout(0.5))\n",
    "#model.add(GlobalAveragePooling2D())\n",
    "model.add(Dense(len(classes), activation='softmax'))\n",
    "\n",
    "\n",
    "model.compile(optimizer='adam', loss='categorical_crossentropy', metrics=['accuracy'])\n",
    "\n",
    "#optimizers.SGD(lr=1e-4, momentum=0.9)\n",
    "y_tr_temp = np_utils.to_categorical(y_tr, len(classes))\n",
    "y_val_temp = np_utils.to_categorical(y_val, len(classes))"
   ]
  },
  {
   "cell_type": "code",
   "execution_count": 35,
   "metadata": {},
   "outputs": [],
   "source": [
    "X_pretrained_tr.shape\n",
    "from keras import backend as K\n",
    "K.set_learning_phase(0)"
   ]
  },
  {
   "cell_type": "code",
   "execution_count": 48,
   "metadata": {},
   "outputs": [
    {
     "data": {
      "text/plain": [
       "(742, 2048)"
      ]
     },
     "execution_count": 48,
     "metadata": {},
     "output_type": "execute_result"
    }
   ],
   "source": [
    "X_pretrained_tr.shape"
   ]
  },
  {
   "cell_type": "code",
   "execution_count": 15,
   "metadata": {},
   "outputs": [
    {
     "name": "stdout",
     "output_type": "stream",
     "text": [
      "Train on 1496 samples, validate on 499 samples\n",
      "Epoch 1/50\n",
      "1496/1496 [==============================] - 1s 731us/step - loss: 2.7567 - acc: 0.0635 - val_loss: 2.7253 - val_acc: 0.0481\n",
      "Epoch 2/50\n",
      "1496/1496 [==============================] - 0s 112us/step - loss: 2.7527 - acc: 0.0642 - val_loss: 2.7509 - val_acc: 0.0721\n",
      "Epoch 3/50\n",
      "1496/1496 [==============================] - 0s 116us/step - loss: 2.7567 - acc: 0.0615 - val_loss: 2.7296 - val_acc: 0.0701\n",
      "Epoch 4/50\n",
      "1496/1496 [==============================] - 0s 117us/step - loss: 2.7506 - acc: 0.0588 - val_loss: 2.7558 - val_acc: 0.0481\n",
      "Epoch 5/50\n",
      "1496/1496 [==============================] - 0s 114us/step - loss: 2.7417 - acc: 0.0648 - val_loss: 2.7606 - val_acc: 0.0701\n",
      "Epoch 6/50\n",
      "1496/1496 [==============================] - 0s 115us/step - loss: 2.7305 - acc: 0.0689 - val_loss: 2.7810 - val_acc: 0.0541\n",
      "Epoch 7/50\n",
      "1496/1496 [==============================] - 0s 117us/step - loss: 2.7474 - acc: 0.0628 - val_loss: 2.7400 - val_acc: 0.0882\n",
      "Epoch 8/50\n",
      "1496/1496 [==============================] - 0s 113us/step - loss: 2.7516 - acc: 0.0668 - val_loss: 2.7768 - val_acc: 0.0541\n",
      "Epoch 9/50\n",
      "1496/1496 [==============================] - 0s 118us/step - loss: 2.7500 - acc: 0.0582 - val_loss: 2.7493 - val_acc: 0.0561\n",
      "Epoch 10/50\n",
      "1496/1496 [==============================] - 0s 116us/step - loss: 2.7526 - acc: 0.0635 - val_loss: 2.7607 - val_acc: 0.0641\n",
      "Epoch 11/50\n",
      "1496/1496 [==============================] - 0s 118us/step - loss: 2.7446 - acc: 0.0682 - val_loss: 2.7342 - val_acc: 0.0561\n",
      "Epoch 12/50\n",
      "1496/1496 [==============================] - 0s 126us/step - loss: 2.7588 - acc: 0.0675 - val_loss: 2.7255 - val_acc: 0.0882\n",
      "Epoch 13/50\n",
      "1496/1496 [==============================] - 0s 112us/step - loss: 2.7501 - acc: 0.0615 - val_loss: 2.7806 - val_acc: 0.0541\n",
      "Epoch 14/50\n",
      "1496/1496 [==============================] - 0s 118us/step - loss: 2.7465 - acc: 0.0668 - val_loss: 2.7662 - val_acc: 0.0561\n",
      "Epoch 15/50\n",
      "1496/1496 [==============================] - 0s 116us/step - loss: 2.7390 - acc: 0.0635 - val_loss: 2.7512 - val_acc: 0.0762\n",
      "Epoch 16/50\n",
      "1496/1496 [==============================] - 0s 118us/step - loss: 2.7450 - acc: 0.0749 - val_loss: 2.7547 - val_acc: 0.0681\n",
      "Epoch 17/50\n",
      "1496/1496 [==============================] - 0s 120us/step - loss: 2.7416 - acc: 0.0582 - val_loss: 2.7699 - val_acc: 0.0541\n",
      "Epoch 18/50\n",
      "1496/1496 [==============================] - 0s 132us/step - loss: 2.7557 - acc: 0.0582 - val_loss: 2.7383 - val_acc: 0.0581\n",
      "Epoch 19/50\n",
      "1496/1496 [==============================] - 0s 121us/step - loss: 2.7416 - acc: 0.0668 - val_loss: 2.7470 - val_acc: 0.0641\n",
      "Epoch 20/50\n",
      "1496/1496 [==============================] - 0s 117us/step - loss: 2.7558 - acc: 0.0682 - val_loss: 2.7625 - val_acc: 0.0882\n",
      "Epoch 21/50\n",
      "1496/1496 [==============================] - 0s 119us/step - loss: 2.7515 - acc: 0.0561 - val_loss: 2.7671 - val_acc: 0.0561\n",
      "Epoch 22/50\n",
      "1496/1496 [==============================] - 0s 124us/step - loss: 2.7585 - acc: 0.0628 - val_loss: 2.7585 - val_acc: 0.0802\n",
      "Epoch 23/50\n",
      "1496/1496 [==============================] - 0s 136us/step - loss: 2.7386 - acc: 0.0668 - val_loss: 2.7536 - val_acc: 0.0701\n",
      "Epoch 24/50\n",
      "1496/1496 [==============================] - 0s 122us/step - loss: 2.7497 - acc: 0.0588 - val_loss: 2.7394 - val_acc: 0.0802\n",
      "Epoch 25/50\n",
      "1496/1496 [==============================] - 0s 129us/step - loss: 2.7469 - acc: 0.0662 - val_loss: 2.7893 - val_acc: 0.0541\n",
      "Epoch 26/50\n",
      "1496/1496 [==============================] - 0s 124us/step - loss: 2.7513 - acc: 0.0568 - val_loss: 2.7518 - val_acc: 0.0681\n",
      "Epoch 27/50\n",
      "1496/1496 [==============================] - 0s 129us/step - loss: 2.7387 - acc: 0.0642 - val_loss: 2.7881 - val_acc: 0.0481\n",
      "Epoch 28/50\n",
      "1496/1496 [==============================] - 0s 135us/step - loss: 2.7446 - acc: 0.0675 - val_loss: 2.7573 - val_acc: 0.0581\n",
      "Epoch 29/50\n",
      "1496/1496 [==============================] - 0s 122us/step - loss: 2.7492 - acc: 0.0608 - val_loss: 2.7545 - val_acc: 0.0561\n",
      "Epoch 30/50\n",
      "1496/1496 [==============================] - 0s 135us/step - loss: 2.7543 - acc: 0.0568 - val_loss: 2.7690 - val_acc: 0.0561\n",
      "Epoch 31/50\n",
      "1496/1496 [==============================] - 0s 124us/step - loss: 2.7384 - acc: 0.0689 - val_loss: 2.7616 - val_acc: 0.0701\n",
      "Epoch 32/50\n",
      "1496/1496 [==============================] - 0s 136us/step - loss: 2.7468 - acc: 0.0555 - val_loss: 2.7331 - val_acc: 0.0541\n",
      "Epoch 33/50\n",
      "1496/1496 [==============================] - 0s 130us/step - loss: 2.7480 - acc: 0.0742 - val_loss: 2.7513 - val_acc: 0.0541\n",
      "Epoch 34/50\n",
      "1496/1496 [==============================] - 0s 126us/step - loss: 2.7422 - acc: 0.0615 - val_loss: 2.7185 - val_acc: 0.0701\n",
      "Epoch 35/50\n",
      "1496/1496 [==============================] - 0s 125us/step - loss: 2.7412 - acc: 0.0722 - val_loss: 2.7609 - val_acc: 0.0541\n",
      "Epoch 36/50\n",
      "1496/1496 [==============================] - 0s 133us/step - loss: 2.7430 - acc: 0.0642 - val_loss: 2.7228 - val_acc: 0.0481\n",
      "Epoch 37/50\n",
      "1496/1496 [==============================] - 0s 123us/step - loss: 2.7486 - acc: 0.0668 - val_loss: 2.7411 - val_acc: 0.0701\n",
      "Epoch 38/50\n",
      "1496/1496 [==============================] - 0s 123us/step - loss: 2.7478 - acc: 0.0662 - val_loss: 2.7479 - val_acc: 0.0541\n",
      "Epoch 39/50\n",
      "1496/1496 [==============================] - 0s 125us/step - loss: 2.7443 - acc: 0.0702 - val_loss: 2.7642 - val_acc: 0.0561\n",
      "Epoch 40/50\n",
      "1496/1496 [==============================] - 0s 122us/step - loss: 2.7502 - acc: 0.0628 - val_loss: 2.7432 - val_acc: 0.0641\n",
      "Epoch 41/50\n",
      "1496/1496 [==============================] - 0s 126us/step - loss: 2.7480 - acc: 0.0702 - val_loss: 2.7726 - val_acc: 0.0641\n",
      "Epoch 42/50\n",
      "1496/1496 [==============================] - 0s 161us/step - loss: 2.7504 - acc: 0.0648 - val_loss: 2.7493 - val_acc: 0.0481\n",
      "Epoch 43/50\n",
      "1496/1496 [==============================] - 0s 125us/step - loss: 2.7448 - acc: 0.0709 - val_loss: 2.7417 - val_acc: 0.0661\n",
      "Epoch 44/50\n",
      "1496/1496 [==============================] - 0s 128us/step - loss: 2.7454 - acc: 0.0675 - val_loss: 2.7691 - val_acc: 0.0581\n",
      "Epoch 45/50\n",
      "1496/1496 [==============================] - 0s 127us/step - loss: 2.7464 - acc: 0.0722 - val_loss: 2.7414 - val_acc: 0.0721\n",
      "Epoch 46/50\n",
      "1496/1496 [==============================] - 0s 116us/step - loss: 2.7483 - acc: 0.0561 - val_loss: 2.7554 - val_acc: 0.0641\n",
      "Epoch 47/50\n",
      "1496/1496 [==============================] - 0s 121us/step - loss: 2.7587 - acc: 0.0602 - val_loss: 2.7413 - val_acc: 0.0762\n",
      "Epoch 48/50\n",
      "1496/1496 [==============================] - 0s 121us/step - loss: 2.7432 - acc: 0.0642 - val_loss: 2.7391 - val_acc: 0.0581\n",
      "Epoch 49/50\n",
      "1496/1496 [==============================] - 0s 120us/step - loss: 2.7458 - acc: 0.0668 - val_loss: 2.7653 - val_acc: 0.0541\n",
      "Epoch 50/50\n",
      "1496/1496 [==============================] - 0s 123us/step - loss: 2.7511 - acc: 0.0568 - val_loss: 2.7303 - val_acc: 0.0661\n"
     ]
    }
   ],
   "source": [
    "model_history = model.fit(\n",
    "    x=X_pretrained_tr, \n",
    "    y=y_tr_temp, \n",
    "    batch_size=32,\n",
    "    epochs=50,\n",
    "    verbose=1,\n",
    "    validation_data=(X_pretrained_val, y_val_temp))"
   ]
  },
  {
   "cell_type": "code",
   "execution_count": 47,
   "metadata": {},
   "outputs": [],
   "source": [
    "batch_size = 32\n",
    "num_epochs = 20\n",
    "\n",
    "from keras.preprocessing.image import ImageDataGenerator\n",
    "\n",
    "datagen = ImageDataGenerator(\n",
    "    featurewise_center=True,\n",
    "    featurewise_std_normalization=True,\n",
    "    rotation_range=20,\n",
    "    width_shift_range=0.2,\n",
    "    height_shift_range=0.2,\n",
    "    horizontal_flip=True)\n",
    "\n",
    "datagen.fit(X_tr)\n",
    "tr_generator = datagen.flow(X_tr, y_tr_temp, batch_size=32)\n",
    "val_generator = datagen.flow(X_val, y_val_temp, batch_size=32)"
   ]
  },
  {
   "cell_type": "code",
   "execution_count": 14,
   "metadata": {},
   "outputs": [
    {
     "data": {
      "text/plain": [
       "596"
      ]
     },
     "execution_count": 14,
     "metadata": {},
     "output_type": "execute_result"
    }
   ],
   "source": [
    "X_tr.shape[0]"
   ]
  },
  {
   "cell_type": "code",
   "execution_count": 54,
   "metadata": {},
   "outputs": [
    {
     "name": "stdout",
     "output_type": "stream",
     "text": [
      "Epoch 1/2\n",
      "500/500 [==============================] - 428s 856ms/step - loss: 2.2942 - acc: 0.2589 - val_loss: 2.3950 - val_acc: 0.2456\n",
      "Epoch 2/2\n",
      "500/500 [==============================] - 453s 907ms/step - loss: 1.9881 - acc: 0.3428 - val_loss: 2.1331 - val_acc: 0.3183\n"
     ]
    }
   ],
   "source": [
    "\n",
    "# fine-tune the model\n",
    "model_history_augment = model.fit_generator(\n",
    "    tr_generator,\n",
    "    steps_per_epoch=500,\n",
    "    epochs=2,\n",
    "    validation_data=val_generator,\n",
    "    validation_steps=500)"
   ]
  },
  {
   "cell_type": "code",
   "execution_count": 48,
   "metadata": {},
   "outputs": [
    {
     "data": {
      "text/plain": [
       "(248, 15, 15, 15)"
      ]
     },
     "execution_count": 48,
     "metadata": {},
     "output_type": "execute_result"
    }
   ],
   "source": [
    "y_val.shape"
   ]
  },
  {
   "cell_type": "code",
   "execution_count": 42,
   "metadata": {},
   "outputs": [
    {
     "data": {
      "text/plain": [
       "(32, 32, 3)"
      ]
     },
     "execution_count": 42,
     "metadata": {},
     "output_type": "execute_result"
    }
   ],
   "source": [
    "X_tr.shape[1:]"
   ]
  },
  {
   "cell_type": "code",
   "execution_count": 15,
   "metadata": {},
   "outputs": [
    {
     "name": "stdout",
     "output_type": "stream",
     "text": [
      "_________________________________________________________________\n",
      "Layer (type)                 Output Shape              Param #   \n",
      "=================================================================\n",
      "dense_1 (Dense)              (None, 15)                30735     \n",
      "=================================================================\n",
      "Total params: 30,735\n",
      "Trainable params: 30,735\n",
      "Non-trainable params: 0\n",
      "_________________________________________________________________\n"
     ]
    }
   ],
   "source": [
    "model.summary()"
   ]
  },
  {
   "cell_type": "code",
   "execution_count": 14,
   "metadata": {},
   "outputs": [],
   "source": [
    "def plot_model_history(model_history):\n",
    "    fig, axs = plt.subplots(1, 2, figsize=(15, 5))\n",
    "    for ax, metric, name in zip(axs, ['acc', 'loss'], ['Accuracy', 'Loss']):\n",
    "        ax.plot(\n",
    "            range(1, len(model_history.history[metric]) + 1), \n",
    "            model_history.history[metric]\n",
    "        )\n",
    "        ax.plot(\n",
    "            range(1, len(model_history.history['val_' + metric]) + 1), \n",
    "            model_history.history['val_' + metric]\n",
    "        )\n",
    "        ax.set_title('Model ' + name)\n",
    "        ax.set_ylabel(name)\n",
    "        ax.set_xlabel('Epoch')\n",
    "        ax.legend(['train', 'val'], loc='best')\n",
    "    plt.show()"
   ]
  },
  {
   "cell_type": "code",
   "execution_count": 15,
   "metadata": {},
   "outputs": [
    {
     "data": {
      "image/png": "[encoded data removed]",
      "text/plain": [
       "<Figure size 1080x360 with 2 Axes>"
      ]
     },
     "metadata": {
      "needs_background": "light"
     },
     "output_type": "display_data"
    }
   ],
   "source": [
    "plot_model_history(model_history)"
   ]
  },
  {
   "cell_type": "code",
   "execution_count": 73,
   "metadata": {},
   "outputs": [
    {
     "data": {
      "image/png": "[encoded data removed]",
      "text/plain": [
       "<Figure size 1080x360 with 2 Axes>"
      ]
     },
     "metadata": {
      "needs_background": "light"
     },
     "output_type": "display_data"
    }
   ],
   "source": [
    "plot_model_history(model_history)"
   ]
  },
  {
   "cell_type": "markdown",
   "metadata": {},
   "source": [
    "## Prediction"
   ]
  },
  {
   "cell_type": "code",
   "execution_count": 16,
   "metadata": {},
   "outputs": [],
   "source": [
    "def conv(v):\n",
    "    v2 = [s.strip('.jpg') for s in v] # remove the .jpg from the string borders \n",
    "    v2 = list(map(int, v2))\n",
    "    return v2"
   ]
  },
  {
   "cell_type": "code",
   "execution_count": 17,
   "metadata": {},
   "outputs": [],
   "source": [
    "def int_to_imagepath (v):\n",
    "    v1 = list(map(str, v))\n",
    "    #print (v1)\n",
    "    v1 = [s.replace(s,s+\".jpg\") for s in v1] \n",
    "    return v1"
   ]
  },
  {
   "cell_type": "code",
   "execution_count": 18,
   "metadata": {},
   "outputs": [
    {
     "name": "stdout",
     "output_type": "stream",
     "text": [
      "X_test lenght :  1800\n"
     ]
    }
   ],
   "source": [
    "X_test = []\n",
    "files = []\n",
    "files_test = listdir(path.join(GLOBAL_DATA_PATH, \"data_test\"))\n",
    "files2_test = conv(files_test) # convertion string to int\n",
    "files3_test = sorted(files2_test) # classement ordre croissant\n",
    "files4_test = int_to_imagepath (files3_test)\n",
    "\n",
    "for file in files4_test:\n",
    "    img = load_img(path.join(GLOBAL_DATA_PATH, \"data_test\", file), target_size=(75, 75))\n",
    "    X_test.append(img_to_array(img))\n",
    "\n",
    "print(\"X_test lenght : \",len(X_test))"
   ]
  },
  {
   "cell_type": "code",
   "execution_count": 19,
   "metadata": {},
   "outputs": [
    {
     "name": "stdout",
     "output_type": "stream",
     "text": [
      "1800/1800 [==============================] - 20s 11ms/step\n"
     ]
    }
   ],
   "source": [
    "X_pretrained_test = pretrained_model.predict(preprocess_input(np.asarray(X_test)), verbose=1)"
   ]
  },
  {
   "cell_type": "code",
   "execution_count": 39,
   "metadata": {},
   "outputs": [
    {
     "name": "stdout",
     "output_type": "stream",
     "text": [
      "(1800, 75, 75, 3)\n"
     ]
    }
   ],
   "source": [
    "print(np.asarray(X_test).shape)"
   ]
  },
  {
   "cell_type": "code",
   "execution_count": 58,
   "metadata": {},
   "outputs": [
    {
     "data": {
      "text/plain": [
       "(742, 2048)"
      ]
     },
     "execution_count": 58,
     "metadata": {},
     "output_type": "execute_result"
    }
   ],
   "source": [
    "X_pretrained_tr.shape"
   ]
  },
  {
   "cell_type": "code",
   "execution_count": 61,
   "metadata": {},
   "outputs": [
    {
     "data": {
      "text/plain": [
       "array([], shape=(0, 1), dtype=float64)"
      ]
     },
     "execution_count": 61,
     "metadata": {},
     "output_type": "execute_result"
    }
   ],
   "source": []
  },
  {
   "cell_type": "code",
   "execution_count": 20,
   "metadata": {},
   "outputs": [],
   "source": [
    "y_test = model.predict_classes(X_pretrained_test)\n",
    "y_test_string = []\n",
    "\n",
    "for i in range(y_test.shape[0]) : \n",
    "    y_test_string.append(classes[y_test[i]])"
   ]
  },
  {
   "cell_type": "code",
   "execution_count": 21,
   "metadata": {},
   "outputs": [],
   "source": [
    "X_id = []\n",
    "for i in range(y_test.shape[0]) : \n",
    "    X_id.append(i)"
   ]
  },
  {
   "cell_type": "code",
   "execution_count": 22,
   "metadata": {},
   "outputs": [],
   "source": [
    "d = {'Id': X_id, 'Category': y_test_string}\n",
    "test_df = pd.DataFrame(data = d)\n",
    "test_df.to_csv('submission.csv', index=False)"
   ]
  },
  {
   "cell_type": "code",
   "execution_count": null,
   "metadata": {},
   "outputs": [],
   "source": []
  },
  {
   "cell_type": "code",
   "execution_count": 23,
   "metadata": {},
   "outputs": [
    {
     "data": {
      "text/html": [
       "<div>\n",
       "<style scoped>\n",
       "    .dataframe tbody tr th:only-of-type {\n",
       "        vertical-align: middle;\n",
       "    }\n",
       "\n",
       "    .dataframe tbody tr th {\n",
       "        vertical-align: top;\n",
       "    }\n",
       "\n",
       "    .dataframe thead th {\n",
       "        text-align: right;\n",
       "    }\n",
       "</style>\n",
       "<table border=\"1\" class=\"dataframe\">\n",
       "  <thead>\n",
       "    <tr style=\"text-align: right;\">\n",
       "      <th></th>\n",
       "      <th>Id</th>\n",
       "      <th>Category</th>\n",
       "    </tr>\n",
       "  </thead>\n",
       "  <tbody>\n",
       "    <tr>\n",
       "      <th>0</th>\n",
       "      <td>0</td>\n",
       "      <td>bee</td>\n",
       "    </tr>\n",
       "    <tr>\n",
       "      <th>1</th>\n",
       "      <td>1</td>\n",
       "      <td>wolf</td>\n",
       "    </tr>\n",
       "    <tr>\n",
       "      <th>2</th>\n",
       "      <td>2</td>\n",
       "      <td>bee</td>\n",
       "    </tr>\n",
       "    <tr>\n",
       "      <th>3</th>\n",
       "      <td>3</td>\n",
       "      <td>bear</td>\n",
       "    </tr>\n",
       "    <tr>\n",
       "      <th>4</th>\n",
       "      <td>4</td>\n",
       "      <td>butterfly</td>\n",
       "    </tr>\n",
       "    <tr>\n",
       "      <th>5</th>\n",
       "      <td>5</td>\n",
       "      <td>rabbit</td>\n",
       "    </tr>\n",
       "    <tr>\n",
       "      <th>6</th>\n",
       "      <td>6</td>\n",
       "      <td>squirrel</td>\n",
       "    </tr>\n",
       "    <tr>\n",
       "      <th>7</th>\n",
       "      <td>7</td>\n",
       "      <td>squirrel</td>\n",
       "    </tr>\n",
       "    <tr>\n",
       "      <th>8</th>\n",
       "      <td>8</td>\n",
       "      <td>fox</td>\n",
       "    </tr>\n",
       "    <tr>\n",
       "      <th>9</th>\n",
       "      <td>9</td>\n",
       "      <td>bee</td>\n",
       "    </tr>\n",
       "    <tr>\n",
       "      <th>10</th>\n",
       "      <td>10</td>\n",
       "      <td>turtle</td>\n",
       "    </tr>\n",
       "    <tr>\n",
       "      <th>11</th>\n",
       "      <td>11</td>\n",
       "      <td>dolphin</td>\n",
       "    </tr>\n",
       "    <tr>\n",
       "      <th>12</th>\n",
       "      <td>12</td>\n",
       "      <td>wolf</td>\n",
       "    </tr>\n",
       "    <tr>\n",
       "      <th>13</th>\n",
       "      <td>13</td>\n",
       "      <td>wolf</td>\n",
       "    </tr>\n",
       "    <tr>\n",
       "      <th>14</th>\n",
       "      <td>14</td>\n",
       "      <td>fox</td>\n",
       "    </tr>\n",
       "    <tr>\n",
       "      <th>15</th>\n",
       "      <td>15</td>\n",
       "      <td>camel</td>\n",
       "    </tr>\n",
       "    <tr>\n",
       "      <th>16</th>\n",
       "      <td>16</td>\n",
       "      <td>camel</td>\n",
       "    </tr>\n",
       "    <tr>\n",
       "      <th>17</th>\n",
       "      <td>17</td>\n",
       "      <td>wolf</td>\n",
       "    </tr>\n",
       "    <tr>\n",
       "      <th>18</th>\n",
       "      <td>18</td>\n",
       "      <td>camel</td>\n",
       "    </tr>\n",
       "    <tr>\n",
       "      <th>19</th>\n",
       "      <td>19</td>\n",
       "      <td>bee</td>\n",
       "    </tr>\n",
       "    <tr>\n",
       "      <th>20</th>\n",
       "      <td>20</td>\n",
       "      <td>lion</td>\n",
       "    </tr>\n",
       "    <tr>\n",
       "      <th>21</th>\n",
       "      <td>21</td>\n",
       "      <td>leopard</td>\n",
       "    </tr>\n",
       "    <tr>\n",
       "      <th>22</th>\n",
       "      <td>22</td>\n",
       "      <td>wolf</td>\n",
       "    </tr>\n",
       "    <tr>\n",
       "      <th>23</th>\n",
       "      <td>23</td>\n",
       "      <td>chimpanzee</td>\n",
       "    </tr>\n",
       "    <tr>\n",
       "      <th>24</th>\n",
       "      <td>24</td>\n",
       "      <td>turtle</td>\n",
       "    </tr>\n",
       "    <tr>\n",
       "      <th>25</th>\n",
       "      <td>25</td>\n",
       "      <td>kangaroo</td>\n",
       "    </tr>\n",
       "    <tr>\n",
       "      <th>26</th>\n",
       "      <td>26</td>\n",
       "      <td>turtle</td>\n",
       "    </tr>\n",
       "    <tr>\n",
       "      <th>27</th>\n",
       "      <td>27</td>\n",
       "      <td>dolphin</td>\n",
       "    </tr>\n",
       "    <tr>\n",
       "      <th>28</th>\n",
       "      <td>28</td>\n",
       "      <td>lion</td>\n",
       "    </tr>\n",
       "    <tr>\n",
       "      <th>29</th>\n",
       "      <td>29</td>\n",
       "      <td>shark</td>\n",
       "    </tr>\n",
       "    <tr>\n",
       "      <th>...</th>\n",
       "      <td>...</td>\n",
       "      <td>...</td>\n",
       "    </tr>\n",
       "    <tr>\n",
       "      <th>1770</th>\n",
       "      <td>1770</td>\n",
       "      <td>lion</td>\n",
       "    </tr>\n",
       "    <tr>\n",
       "      <th>1771</th>\n",
       "      <td>1771</td>\n",
       "      <td>rabbit</td>\n",
       "    </tr>\n",
       "    <tr>\n",
       "      <th>1772</th>\n",
       "      <td>1772</td>\n",
       "      <td>chimpanzee</td>\n",
       "    </tr>\n",
       "    <tr>\n",
       "      <th>1773</th>\n",
       "      <td>1773</td>\n",
       "      <td>rabbit</td>\n",
       "    </tr>\n",
       "    <tr>\n",
       "      <th>1774</th>\n",
       "      <td>1774</td>\n",
       "      <td>wolf</td>\n",
       "    </tr>\n",
       "    <tr>\n",
       "      <th>1775</th>\n",
       "      <td>1775</td>\n",
       "      <td>dolphin</td>\n",
       "    </tr>\n",
       "    <tr>\n",
       "      <th>1776</th>\n",
       "      <td>1776</td>\n",
       "      <td>shark</td>\n",
       "    </tr>\n",
       "    <tr>\n",
       "      <th>1777</th>\n",
       "      <td>1777</td>\n",
       "      <td>kangaroo</td>\n",
       "    </tr>\n",
       "    <tr>\n",
       "      <th>1778</th>\n",
       "      <td>1778</td>\n",
       "      <td>fox</td>\n",
       "    </tr>\n",
       "    <tr>\n",
       "      <th>1779</th>\n",
       "      <td>1779</td>\n",
       "      <td>rabbit</td>\n",
       "    </tr>\n",
       "    <tr>\n",
       "      <th>1780</th>\n",
       "      <td>1780</td>\n",
       "      <td>rabbit</td>\n",
       "    </tr>\n",
       "    <tr>\n",
       "      <th>1781</th>\n",
       "      <td>1781</td>\n",
       "      <td>wolf</td>\n",
       "    </tr>\n",
       "    <tr>\n",
       "      <th>1782</th>\n",
       "      <td>1782</td>\n",
       "      <td>fox</td>\n",
       "    </tr>\n",
       "    <tr>\n",
       "      <th>1783</th>\n",
       "      <td>1783</td>\n",
       "      <td>wolf</td>\n",
       "    </tr>\n",
       "    <tr>\n",
       "      <th>1784</th>\n",
       "      <td>1784</td>\n",
       "      <td>lion</td>\n",
       "    </tr>\n",
       "    <tr>\n",
       "      <th>1785</th>\n",
       "      <td>1785</td>\n",
       "      <td>bear</td>\n",
       "    </tr>\n",
       "    <tr>\n",
       "      <th>1786</th>\n",
       "      <td>1786</td>\n",
       "      <td>turtle</td>\n",
       "    </tr>\n",
       "    <tr>\n",
       "      <th>1787</th>\n",
       "      <td>1787</td>\n",
       "      <td>bee</td>\n",
       "    </tr>\n",
       "    <tr>\n",
       "      <th>1788</th>\n",
       "      <td>1788</td>\n",
       "      <td>shark</td>\n",
       "    </tr>\n",
       "    <tr>\n",
       "      <th>1789</th>\n",
       "      <td>1789</td>\n",
       "      <td>shark</td>\n",
       "    </tr>\n",
       "    <tr>\n",
       "      <th>1790</th>\n",
       "      <td>1790</td>\n",
       "      <td>kangaroo</td>\n",
       "    </tr>\n",
       "    <tr>\n",
       "      <th>1791</th>\n",
       "      <td>1791</td>\n",
       "      <td>butterfly</td>\n",
       "    </tr>\n",
       "    <tr>\n",
       "      <th>1792</th>\n",
       "      <td>1792</td>\n",
       "      <td>turtle</td>\n",
       "    </tr>\n",
       "    <tr>\n",
       "      <th>1793</th>\n",
       "      <td>1793</td>\n",
       "      <td>turtle</td>\n",
       "    </tr>\n",
       "    <tr>\n",
       "      <th>1794</th>\n",
       "      <td>1794</td>\n",
       "      <td>shark</td>\n",
       "    </tr>\n",
       "    <tr>\n",
       "      <th>1795</th>\n",
       "      <td>1795</td>\n",
       "      <td>chimpanzee</td>\n",
       "    </tr>\n",
       "    <tr>\n",
       "      <th>1796</th>\n",
       "      <td>1796</td>\n",
       "      <td>leopard</td>\n",
       "    </tr>\n",
       "    <tr>\n",
       "      <th>1797</th>\n",
       "      <td>1797</td>\n",
       "      <td>lion</td>\n",
       "    </tr>\n",
       "    <tr>\n",
       "      <th>1798</th>\n",
       "      <td>1798</td>\n",
       "      <td>rabbit</td>\n",
       "    </tr>\n",
       "    <tr>\n",
       "      <th>1799</th>\n",
       "      <td>1799</td>\n",
       "      <td>shark</td>\n",
       "    </tr>\n",
       "  </tbody>\n",
       "</table>\n",
       "<p>1800 rows × 2 columns</p>\n",
       "</div>"
      ],
      "text/plain": [
       "        Id    Category\n",
       "0        0         bee\n",
       "1        1        wolf\n",
       "2        2         bee\n",
       "3        3        bear\n",
       "4        4   butterfly\n",
       "5        5      rabbit\n",
       "6        6    squirrel\n",
       "7        7    squirrel\n",
       "8        8         fox\n",
       "9        9         bee\n",
       "10      10      turtle\n",
       "11      11     dolphin\n",
       "12      12        wolf\n",
       "13      13        wolf\n",
       "14      14         fox\n",
       "15      15       camel\n",
       "16      16       camel\n",
       "17      17        wolf\n",
       "18      18       camel\n",
       "19      19         bee\n",
       "20      20        lion\n",
       "21      21     leopard\n",
       "22      22        wolf\n",
       "23      23  chimpanzee\n",
       "24      24      turtle\n",
       "25      25    kangaroo\n",
       "26      26      turtle\n",
       "27      27     dolphin\n",
       "28      28        lion\n",
       "29      29       shark\n",
       "...    ...         ...\n",
       "1770  1770        lion\n",
       "1771  1771      rabbit\n",
       "1772  1772  chimpanzee\n",
       "1773  1773      rabbit\n",
       "1774  1774        wolf\n",
       "1775  1775     dolphin\n",
       "1776  1776       shark\n",
       "1777  1777    kangaroo\n",
       "1778  1778         fox\n",
       "1779  1779      rabbit\n",
       "1780  1780      rabbit\n",
       "1781  1781        wolf\n",
       "1782  1782         fox\n",
       "1783  1783        wolf\n",
       "1784  1784        lion\n",
       "1785  1785        bear\n",
       "1786  1786      turtle\n",
       "1787  1787         bee\n",
       "1788  1788       shark\n",
       "1789  1789       shark\n",
       "1790  1790    kangaroo\n",
       "1791  1791   butterfly\n",
       "1792  1792      turtle\n",
       "1793  1793      turtle\n",
       "1794  1794       shark\n",
       "1795  1795  chimpanzee\n",
       "1796  1796     leopard\n",
       "1797  1797        lion\n",
       "1798  1798      rabbit\n",
       "1799  1799       shark\n",
       "\n",
       "[1800 rows x 2 columns]"
      ]
     },
     "execution_count": 23,
     "metadata": {},
     "output_type": "execute_result"
    }
   ],
   "source": [
    "test_df"
   ]
  },
  {
   "cell_type": "code",
   "execution_count": 75,
   "metadata": {},
   "outputs": [],
   "source": [
    "import csv\n",
    "\n",
    "id = 23\n",
    "animal = 'chimpanzee'\n",
    "\n",
    "with open('submition.csv', 'w', newline='') as csvfile:\n",
    "    \n",
    "    spamwriter = csv.writer(csvfile, delimiter='',quotechar='|', quoting=csv.QUOTE_MINIMAL)\n",
    "    spamwriter.writerow({'Id,Category'})\n",
    "    \n",
    "    for i in range(4) : \n",
    "    \n",
    "        spamwriter.writerow({i,',',classes[y_test[i]]})\n"
   ]
  },
  {
   "cell_type": "code",
   "execution_count": 50,
   "metadata": {},
   "outputs": [],
   "source": [
    "import numpy as np\n",
    "from keras.applications.resnet50 import ResNet50, preprocess_input, decode_predictions\n",
    "from keras.models import Model\n",
    "from keras.preprocessing import image\n",
    "from skimage.transform import resize\n",
    "from skimage.io import imread"
   ]
  },
  {
   "cell_type": "code",
   "execution_count": 67,
   "metadata": {},
   "outputs": [
    {
     "data": {
      "text/plain": [
       "<keras.layers.core.Dense at 0x7f7b0acc2b38>"
      ]
     },
     "execution_count": 67,
     "metadata": {},
     "output_type": "execute_result"
    }
   ],
   "source": [
    " #Basic Implementation of resnet model\n",
    "model_ResNet50 = ResNet50(include_top=True, weights='imagenet')\n",
    "model_ResNet50.layers.pop()\n",
    "#model_ResNet50.summary()"
   ]
  },
  {
   "cell_type": "code",
   "execution_count": 68,
   "metadata": {},
   "outputs": [],
   "source": [
    "model_ResNet50.compile(optimizer='adam',loss='binary_crossentropy',metrics=['accuracy'])"
   ]
  },
  {
   "cell_type": "code",
   "execution_count": 102,
   "metadata": {},
   "outputs": [],
   "source": [
    "#print(X_tr)\n",
    "#print(y_tr)"
   ]
  },
  {
   "cell_type": "code",
   "execution_count": 69,
   "metadata": {},
   "outputs": [
    {
     "name": "stdout",
     "output_type": "stream",
     "text": [
      "742/742 [==============================] - 200s 270ms/step\n",
      "248/248 [==============================] - 66s 267ms/step\n",
      "Done extracting resnet50 features..\n"
     ]
    }
   ],
   "source": [
    "if model_ResNet50:\n",
    "    X_extracted_tr = model_ResNet50.predict(preprocess_input(X_tr), verbose=1)\n",
    "    X_extracted_val = model_ResNet50.predict(preprocess_input(X_val), verbose=1)\n",
    "    print('Done extracting resnet50 features..')"
   ]
  },
  {
   "cell_type": "code",
   "execution_count": 36,
   "metadata": {},
   "outputs": [
    {
     "name": "stdout",
     "output_type": "stream",
     "text": [
      "X_extracted_tr :  (67, 1000)\n"
     ]
    }
   ],
   "source": [
    "print(\"X_extracted_tr : \", X_extracted_tr.shape)"
   ]
  },
  {
   "cell_type": "code",
   "execution_count": 28,
   "metadata": {},
   "outputs": [],
   "source": [
    "from keras import optimizers\n",
    "\n",
    "sgd = optimizers.SGD(lr=0.01, decay=1e-6, momentum=0.9, nesterov=True)"
   ]
  },
  {
   "cell_type": "code",
   "execution_count": 223,
   "metadata": {},
   "outputs": [],
   "source": [
    "from keras.models import Sequential\n",
    "from keras.layers import Dense, Dropout, Flatten, Conv2D, MaxPooling2D, Activation, BatchNormalization\n",
    "from keras.optimizers import Adam\n",
    "\n",
    "batch_size = 128\n",
    "num_epochs = 20\n",
    "\n",
    "transfer_model = Sequential()\n",
    "\n",
    "kernel_height = 5\n",
    "kernel_width = 5\n",
    "output_filter = 32\n",
    "output_filter2 = 64\n",
    "input_image = (image_size[0], image_size[1], image_size[2])\n",
    "activation1 = 'relu'\n",
    "activation2 = 'sigmoid'\n",
    "\n",
    "\"\"\"\n",
    "# TODO: 1st Convolution Layer\n",
    "transfer_model.add(Conv2D(output_filter2, (kernel_height, kernel_width), padding='SAME', input_shape=(image_size[0], image_size[1], image_size[2]))) \n",
    "transfer_model.add(Activation('relu')) \n",
    "transfer_model.add(BatchNormalization())\n",
    "transfer_model.add(MaxPooling2D(pool_size=(2, 2)))\n",
    "\n",
    "#2nd Convolution Layer\n",
    "transfer_model.add(Conv2D(output_filter2, (kernel_height, kernel_width)))\n",
    "transfer_model.add(Activation(activation1)) \n",
    "transfer_model.add(BatchNormalization())\n",
    "transfer_model.add(MaxPooling2D(pool_size=(2, 2)))\n",
    "\n",
    "transfer_model.add(Flatten())\n",
    "transfer_model.add(Dropout(0.5))\n",
    "#transfer_model.add(Dense(128, activation = 'relu'))\n",
    "transfer_model.add(Dense(1, activation = 'sigmoid'))\"\"\"\n",
    "\n",
    "\n",
    "\n",
    "transfer_model.add(Conv2D(output_filter, (kernel_height, kernel_width), padding='SAME', input_shape=input_image)) \n",
    "transfer_model.add(Activation('relu')) \n",
    "transfer_model.add(BatchNormalization())\n",
    "transfer_model.add(MaxPooling2D(pool_size=(2, 2)))\n",
    "\n",
    "transfer_model.add(Conv2D(output_filter2, (3, 3), padding='SAME', input_shape=input_image)) \n",
    "transfer_model.add(Activation('relu')) \n",
    "transfer_model.add(BatchNormalization())\n",
    "transfer_model.add(MaxPooling2D(pool_size=(2, 2)))\n",
    "\n",
    "transfer_model.add(Flatten())\n",
    "transfer_model.add(Dropout(0.4))\n",
    "transfer_model.add(Dense(126, activation='relu'))\n",
    "transfer_model.add(Dropout(0.25))\n",
    "#transfer_model.add(Dense(10, activation='softmax'))\n",
    "transfer_model.add(Dense(1))\n",
    "\n",
    "    \n",
    "transfer_model.compile(optimizer='adam',loss='mean_squared_error',metrics=['accuracy'])"
   ]
  }
 ],
 "metadata": {
  "kernelspec": {
   "display_name": "Python 3",
   "language": "python",
   "name": "python3"
  },
  "language_info": {
   "codemirror_mode": {
    "name": "ipython",
    "version": 3
   },
   "file_extension": ".py",
   "mimetype": "text/x-python",
   "name": "python",
   "nbconvert_exporter": "python",
   "pygments_lexer": "ipython3",
   "version": "3.6.5"
  }
 },
 "nbformat": 4,
 "nbformat_minor": 2
}
