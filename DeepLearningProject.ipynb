{
 "cells": [
  {
   "cell_type": "markdown",
   "metadata": {},
   "source": [
    "### 1)Extraction des données "
   ]
  },
  {
   "cell_type": "code",
   "execution_count": 1,
   "metadata": {},
   "outputs": [
    {
     "name": "stderr",
     "output_type": "stream",
     "text": [
      "Using TensorFlow backend.\n"
     ]
    }
   ],
   "source": [
    "import os\n",
    "from os import listdir, path\n",
    "import tarfile\n",
    "import random\n",
    "import numpy as np\n",
    "import keras \n",
    "from keras.preprocessing.image import img_to_array, load_img\n",
    "import tensorflow as tf\n",
    "import matplotlib.pyplot as plt\n",
    "from skimage.io import imread\n",
    "from sklearn.preprocessing import MinMaxScaler\n",
    "from sklearn.model_selection import train_test_split"
   ]
  },
  {
   "cell_type": "code",
   "execution_count": 2,
   "metadata": {},
   "outputs": [],
   "source": [
    "#attention au path bien avoir une hierarchie : data -> Dossier suivant dans data : data_test.tar.gz ,data_train.tar.gz, data_train.csv \n",
    "if not path.exists('data/data_test/'):\n",
    "    print('Extracting test image files...')\n",
    "    tar = tarfile.open(\"./data/data_test.tar.gz\", \"r:gz\")\n",
    "    tar.extractall('data/')\n",
    "if not path.exists('data/data_train/'):\n",
    "    print('Extracting train image files...')\n",
    "    tar = tarfile.open(\"./data/data_train.tar.gz\", \"r:gz\")\n",
    "    tar.extractall('data/')"
   ]
  },
  {
   "cell_type": "markdown",
   "metadata": {},
   "source": [
    "### Display utility functions"
   ]
  },
  {
   "cell_type": "code",
   "execution_count": 2,
   "metadata": {},
   "outputs": [],
   "source": [
    "def show(image):\n",
    "    plt.imshow(np.squeeze(image.astype(\"uint8\")), cmap=\"gray\")\n",
    "    plt.title(\"image shape: \"+ str(image.shape), fontsize=14)\n",
    "    plt.axis('off');\n",
    "    \n",
    "def show_multiple(images, figsize):\n",
    "    fig, ax = plt.subplots(ncols=len(images), figsize=figsize)\n",
    "    for col, image in zip(ax, images):\n",
    "        col.imshow(np.squeeze(image.astype(\"uint8\")), cmap=\"gray\")\n",
    "        col.set_title(\"image shape: \"+ str(image.shape), fontsize=14)\n",
    "    plt.tight_layout()\n",
    "    plt.axis('off');"
   ]
  },
  {
   "cell_type": "code",
   "execution_count": 3,
   "metadata": {},
   "outputs": [
    {
     "data": {
      "image/png": "[encoded data removed]",
      "text/plain": [
       "<Figure size 432x288 with 1 Axes>"
      ]
     },
     "metadata": {
      "needs_background": "light"
     },
     "output_type": "display_data"
    }
   ],
   "source": [
    "sample_image = imread(\"./data/data_train/10.jpg\")\n",
    "show(sample_image)"
   ]
  },
  {
   "cell_type": "markdown",
   "metadata": {},
   "source": [
    "### Importer les Images (Train and Test) et les trier afin qu'elles soient en adéquation avec le fichier CSV"
   ]
  },
  {
   "cell_type": "code",
   "execution_count": 3,
   "metadata": {},
   "outputs": [],
   "source": [
    "import pandas as pd\n",
    "\n",
    "def load_data(data_path):\n",
    "    csv_path = os.path.join(data_path, \"labels_train.csv\")\n",
    "    return pd.read_csv(csv_path) # note the returned variable"
   ]
  },
  {
   "cell_type": "code",
   "execution_count": 4,
   "metadata": {},
   "outputs": [],
   "source": [
    "GLOBAL_DATA_PATH = \"./data\"\n",
    "data = load_data(GLOBAL_DATA_PATH) #Pemet de charger les données du CSV\n",
    "#y_train = load_data(GLOBAL_DATA_PATH)"
   ]
  },
  {
   "cell_type": "code",
   "execution_count": 5,
   "metadata": {},
   "outputs": [],
   "source": [
    "import shutil, os\n",
    "\n",
    "def split_img_in_subfolders(data) :\n",
    "    for i in range(data.shape[0]) : \n",
    "        animal_folder_path = os.path.join('./','data', 'data_train', data['Category'][i])\n",
    "        \n",
    "        # Create folder if doesn't exist \n",
    "        if not path.exists(animal_folder_path):\n",
    "            os.mkdir(animal_folder_path)\n",
    "            \n",
    "        # Copy the img in the associated folder    \n",
    "        shutil.copy(os.path.join('./', 'data', 'data_train', str(data['Id'][i])) +'.jpg', os.path.join(animal_folder_path , str(data['Id'][i]) +'.jpg'))"
   ]
  },
  {
   "cell_type": "code",
   "execution_count": 8,
   "metadata": {},
   "outputs": [],
   "source": [
    "#split_img_in_subfolders(data)"
   ]
  },
  {
   "cell_type": "code",
   "execution_count": 5,
   "metadata": {},
   "outputs": [],
   "source": [
    "def get_classes() :\n",
    "    classes = []\n",
    "    for animal in data['Category'] :\n",
    "        if (animal not in classes) : \n",
    "            classes.append(animal)\n",
    "        \n",
    "    return classes"
   ]
  },
  {
   "cell_type": "code",
   "execution_count": 6,
   "metadata": {},
   "outputs": [],
   "source": [
    "def get_splitted_data_with_size(image_size, sample_size, test_ratio, classes, seed):\n",
    "    X, Y = [], []\n",
    "    for label, animal in enumerate(classes):\n",
    "        files = listdir(path.join('./data/data_train', animal))\n",
    "        random.shuffle(files)\n",
    "        files = files[:(sample_size // len(classes))]\n",
    "        for file in files:\n",
    "            img = load_img(path.join('./data/data_train', animal, file), \n",
    "                           target_size=image_size)\n",
    "            X.append(img_to_array(img))\n",
    "            Y.append(label)\n",
    "            \n",
    "    return train_test_split(np.asarray(X), np.asarray(Y), test_size=test_ratio, random_state=seed)"
   ]
  },
  {
   "cell_type": "code",
   "execution_count": 8,
   "metadata": {},
   "outputs": [
    {
     "data": {
      "text/plain": [
       "(7200, 2)"
      ]
     },
     "execution_count": 8,
     "metadata": {},
     "output_type": "execute_result"
    }
   ],
   "source": [
    "data.shape"
   ]
  },
  {
   "cell_type": "code",
   "execution_count": 7,
   "metadata": {},
   "outputs": [],
   "source": [
    "image_size = (32, 32, 3)\n",
    "keras_size = (224, 224, 3)\n",
    "sample_size = 1000\n",
    "classes = get_classes()\n",
    "\n",
    "X_tr, X_val, y_tr, y_val = get_splitted_data_with_size(\n",
    "    image_size=image_size, sample_size=sample_size, test_ratio=0.25, classes=classes, seed=42\n",
    ")"
   ]
  },
  {
   "cell_type": "code",
   "execution_count": 10,
   "metadata": {},
   "outputs": [
    {
     "data": {
      "text/plain": [
       "((742, 32, 32, 3), (248, 32, 32, 3), (742,), (248,))"
      ]
     },
     "execution_count": 10,
     "metadata": {},
     "output_type": "execute_result"
    }
   ],
   "source": [
    "X_tr.shape, X_val.shape, y_tr.shape, y_val.shape"
   ]
  },
  {
   "cell_type": "code",
   "execution_count": 11,
   "metadata": {},
   "outputs": [
    {
     "data": {
      "text/plain": [
       "15"
      ]
     },
     "execution_count": 11,
     "metadata": {},
     "output_type": "execute_result"
    }
   ],
   "source": [
    "len(classes)"
   ]
  },
  {
   "cell_type": "code",
   "execution_count": 8,
   "metadata": {},
   "outputs": [
    {
     "name": "stdout",
     "output_type": "stream",
     "text": [
      "chimpanzee\n"
     ]
    },
    {
     "data": {
      "image/png": "[encoded data removed]",
      "text/plain": [
       "<Figure size 432x288 with 1 Axes>"
      ]
     },
     "metadata": {
      "needs_background": "light"
     },
     "output_type": "display_data"
    }
   ],
   "source": [
    "show(X_tr[1])\n",
    "print(classes[y_tr[1]])"
   ]
  },
  {
   "cell_type": "markdown",
   "metadata": {},
   "source": [
    "### MODEL : VIA RESNET 50 "
   ]
  },
  {
   "cell_type": "code",
   "execution_count": 8,
   "metadata": {},
   "outputs": [],
   "source": [
    "from keras.models import Sequential\n",
    "from keras.layers import Dense, Dropout, Flatten, Conv2D, MaxPooling2D, Activation, BatchNormalization\n",
    "from keras import optimizers\n",
    "from keras import utils as np_utils\n",
    "\n",
    "\n",
    "model = Sequential()\n",
    "\n",
    "model.add(Conv2D(32, (4, 4), padding='SAME', input_shape=X_tr.shape[1:])) \n",
    "model.add(Activation('relu')) \n",
    "model.add(BatchNormalization())\n",
    "model.add(MaxPooling2D(pool_size=(2, 2)))\n",
    "\n",
    "model.add(Conv2D(64, (3, 3), padding='SAME')) \n",
    "model.add(Activation('relu')) \n",
    "model.add(BatchNormalization())\n",
    "model.add(MaxPooling2D(pool_size=(2, 2)))\n",
    "\n",
    "model.add(Flatten())\n",
    "model.add(Dense(256, activation='relu'))\n",
    "model.add(Dropout(0.5))\n",
    "model.add(Dense(len(classes), activation='softmax'))\n",
    "model.add(Dropout(0.3))\n",
    "\n",
    "model.compile(optimizer=optimizers.SGD(lr=1e-4, momentum=0.9), loss='categorical_crossentropy', metrics=['accuracy'])\n",
    "\n",
    "y_tr = np_utils.to_categorical(y_tr, len(classes))\n",
    "y_val = np_utils.to_categorical(y_val, len(classes))"
   ]
  },
  {
   "cell_type": "code",
   "execution_count": 9,
   "metadata": {},
   "outputs": [],
   "source": [
    "batch_size = 32\n",
    "num_epochs = 20\n",
    "\n",
    "from keras.preprocessing.image import ImageDataGenerator\n",
    "\n",
    "datagen = ImageDataGenerator(\n",
    "    featurewise_center=True,\n",
    "    featurewise_std_normalization=True,\n",
    "    rotation_range=20,\n",
    "    width_shift_range=0.2,\n",
    "    height_shift_range=0.2,\n",
    "    horizontal_flip=True)\n",
    "\n",
    "datagen.fit(X_tr)\n",
    "tr_generator = datagen.flow(X_tr, y_tr, batch_size=batch_size)\n",
    "val_generator = datagen.flow(X_val, y_val, batch_size=batch_size)"
   ]
  },
  {
   "cell_type": "code",
   "execution_count": 10,
   "metadata": {},
   "outputs": [
    {
     "data": {
      "text/plain": [
       "742"
      ]
     },
     "execution_count": 10,
     "metadata": {},
     "output_type": "execute_result"
    }
   ],
   "source": [
    "X_tr.shape[0]"
   ]
  },
  {
   "cell_type": "code",
   "execution_count": 11,
   "metadata": {},
   "outputs": [
    {
     "name": "stdout",
     "output_type": "stream",
     "text": [
      "Epoch 1/20\n",
      "1000/1000 [==============================] - 160s 160ms/step - loss: 6.4427 - acc: 0.1814 - val_loss: 2.2118 - val_acc: 0.2688\n",
      "Epoch 2/20\n",
      "1000/1000 [==============================] - 162s 162ms/step - loss: 6.1837 - acc: 0.2483 - val_loss: 2.0999 - val_acc: 0.3171\n",
      "Epoch 3/20\n",
      "1000/1000 [==============================] - 165s 165ms/step - loss: 5.9812 - acc: 0.2849 - val_loss: 2.0569 - val_acc: 0.3294\n",
      "Epoch 4/20\n",
      "1000/1000 [==============================] - 170s 170ms/step - loss: 5.9588 - acc: 0.3068 - val_loss: 2.0229 - val_acc: 0.3457\n",
      "Epoch 5/20\n",
      "1000/1000 [==============================] - 170s 170ms/step - loss: 5.9199 - acc: 0.3263 - val_loss: 2.0147 - val_acc: 0.3496\n",
      "Epoch 6/20\n",
      "1000/1000 [==============================] - 176s 176ms/step - loss: 5.7725 - acc: 0.3444 - val_loss: 2.0243 - val_acc: 0.3519\n",
      "Epoch 7/20\n",
      "1000/1000 [==============================] - 181s 181ms/step - loss: 5.8531 - acc: 0.3554 - val_loss: 2.0103 - val_acc: 0.3563\n",
      "Epoch 8/20\n",
      "1000/1000 [==============================] - 184s 184ms/step - loss: 5.7547 - acc: 0.3749 - val_loss: 2.0025 - val_acc: 0.3627\n",
      "Epoch 9/20\n",
      "1000/1000 [==============================] - 185s 185ms/step - loss: 5.7000 - acc: 0.3844 - val_loss: 2.0357 - val_acc: 0.3591\n",
      "Epoch 10/20\n",
      "1000/1000 [==============================] - 189s 189ms/step - loss: 5.6935 - acc: 0.3977 - val_loss: 2.0101 - val_acc: 0.3769\n",
      "Epoch 11/20\n",
      "1000/1000 [==============================] - 198s 198ms/step - loss: 5.7474 - acc: 0.3946 - val_loss: 2.0062 - val_acc: 0.3708\n",
      "Epoch 12/20\n",
      "1000/1000 [==============================] - 204s 204ms/step - loss: 5.7102 - acc: 0.4090 - val_loss: 1.9999 - val_acc: 0.3808\n",
      "Epoch 13/20\n",
      "1000/1000 [==============================] - 181s 181ms/step - loss: 5.6882 - acc: 0.4187 - val_loss: 2.0305 - val_acc: 0.3768\n",
      "Epoch 14/20\n",
      "1000/1000 [==============================] - 184s 184ms/step - loss: 5.5787 - acc: 0.4298 - val_loss: 2.0374 - val_acc: 0.3799\n",
      "Epoch 15/20\n",
      "1000/1000 [==============================] - 222s 222ms/step - loss: 5.5600 - acc: 0.4381 - val_loss: 2.0429 - val_acc: 0.3702\n",
      "Epoch 16/20\n",
      "1000/1000 [==============================] - 196s 196ms/step - loss: 5.6193 - acc: 0.4347 - val_loss: 2.0608 - val_acc: 0.3699\n",
      "Epoch 17/20\n",
      "1000/1000 [==============================] - 214s 214ms/step - loss: 5.6149 - acc: 0.4423 - val_loss: 2.0419 - val_acc: 0.3757\n",
      "Epoch 18/20\n",
      "1000/1000 [==============================] - 188s 188ms/step - loss: 5.5369 - acc: 0.4513 - val_loss: 2.0779 - val_acc: 0.3740\n",
      "Epoch 19/20\n",
      "1000/1000 [==============================] - 189s 189ms/step - loss: 5.5326 - acc: 0.4582 - val_loss: 2.0618 - val_acc: 0.3737\n",
      "Epoch 20/20\n",
      "1000/1000 [==============================] - 188s 188ms/step - loss: 5.4571 - acc: 0.4666 - val_loss: 2.0630 - val_acc: 0.3854\n"
     ]
    }
   ],
   "source": [
    "\n",
    "# fine-tune the model\n",
    "model_history = model.fit_generator(\n",
    "    tr_generator,\n",
    "    steps_per_epoch=1000,\n",
    "    epochs=num_epochs,\n",
    "    validation_data=val_generator,\n",
    "    validation_steps=800)"
   ]
  },
  {
   "cell_type": "code",
   "execution_count": 48,
   "metadata": {},
   "outputs": [
    {
     "data": {
      "text/plain": [
       "(248, 15, 15, 15)"
      ]
     },
     "execution_count": 48,
     "metadata": {},
     "output_type": "execute_result"
    }
   ],
   "source": [
    "y_val.shape"
   ]
  },
  {
   "cell_type": "code",
   "execution_count": null,
   "metadata": {},
   "outputs": [],
   "source": [
    "model.summary()"
   ]
  },
  {
   "cell_type": "code",
   "execution_count": 12,
   "metadata": {},
   "outputs": [],
   "source": [
    "def plot_model_history(model_history):\n",
    "    fig, axs = plt.subplots(1, 2, figsize=(15, 5))\n",
    "    for ax, metric, name in zip(axs, ['acc', 'loss'], ['Accuracy', 'Loss']):\n",
    "        ax.plot(\n",
    "            range(1, len(model_history.history[metric]) + 1), \n",
    "            model_history.history[metric]\n",
    "        )\n",
    "        ax.plot(\n",
    "            range(1, len(model_history.history['val_' + metric]) + 1), \n",
    "            model_history.history['val_' + metric]\n",
    "        )\n",
    "        ax.set_title('Model ' + name)\n",
    "        ax.set_ylabel(name)\n",
    "        ax.set_xlabel('Epoch')\n",
    "        ax.legend(['train', 'val'], loc='best')\n",
    "    plt.show()"
   ]
  },
  {
   "cell_type": "code",
   "execution_count": 13,
   "metadata": {},
   "outputs": [
    {
     "data": {
      "image/png": "[encoded data removed]",
      "text/plain": [
       "<Figure size 1080x360 with 2 Axes>"
      ]
     },
     "metadata": {
      "needs_background": "light"
     },
     "output_type": "display_data"
    }
   ],
   "source": [
    "plot_model_history(model_history)"
   ]
  },
  {
   "cell_type": "markdown",
   "metadata": {},
   "source": [
    "## Prediction"
   ]
  },
  {
   "cell_type": "code",
   "execution_count": 14,
   "metadata": {},
   "outputs": [],
   "source": [
    "def conv(v):\n",
    "    v2 = [s.strip('.jpg') for s in v] # remove the .jpg from the string borders \n",
    "    v2 = list(map(int, v2))\n",
    "    return v2"
   ]
  },
  {
   "cell_type": "code",
   "execution_count": 15,
   "metadata": {},
   "outputs": [],
   "source": [
    "def int_to_imagepath (v):\n",
    "    v1 = list(map(str, v))\n",
    "    #print (v1)\n",
    "    v1 = [s.replace(s,s+\".jpg\") for s in v1] \n",
    "    return v1"
   ]
  },
  {
   "cell_type": "code",
   "execution_count": 16,
   "metadata": {},
   "outputs": [
    {
     "name": "stdout",
     "output_type": "stream",
     "text": [
      "X_test lenght :  1800\n"
     ]
    }
   ],
   "source": [
    "X_test = []\n",
    "files = []\n",
    "files_test = listdir(path.join(GLOBAL_DATA_PATH, \"data_test\"))\n",
    "files2_test = conv(files_test) # convertion string to int\n",
    "files3_test = sorted(files2_test) # classement ordre croissant\n",
    "files4_test = int_to_imagepath (files3_test)\n",
    "\n",
    "for file in files4_test:\n",
    "    img = load_img(path.join(GLOBAL_DATA_PATH, \"data_train\", file))\n",
    "    X_test.append(img_to_array(img))\n",
    "\n",
    "print(\"X_test lenght : \",len(X_test))"
   ]
  },
  {
   "cell_type": "code",
   "execution_count": 29,
   "metadata": {},
   "outputs": [
    {
     "data": {
      "image/png": "[encoded data removed]",
      "text/plain": [
       "<Figure size 432x288 with 1 Axes>"
      ]
     },
     "metadata": {
      "needs_background": "light"
     },
     "output_type": "display_data"
    }
   ],
   "source": [
    "show(np.asarray(X_test[11]))"
   ]
  },
  {
   "cell_type": "code",
   "execution_count": 21,
   "metadata": {},
   "outputs": [],
   "source": [
    "\n",
    "\n",
    "y_test = model.predict_classes(np.asarray(X_test))"
   ]
  },
  {
   "cell_type": "code",
   "execution_count": 56,
   "metadata": {},
   "outputs": [],
   "source": [
    "y_test_string = []\n",
    "\n",
    "for i in range(y_test.shape[0]) : \n",
    "    y_test_string.append(classes[y_test[i]])"
   ]
  },
  {
   "cell_type": "code",
   "execution_count": 49,
   "metadata": {},
   "outputs": [
    {
     "data": {
      "text/plain": [
       "['rabbit',\n",
       " 'chimpanzee',\n",
       " 'kangaroo',\n",
       " 'bear',\n",
       " 'dolphin',\n",
       " 'fox',\n",
       " 'wolf',\n",
       " 'bee',\n",
       " 'camel',\n",
       " 'turtle',\n",
       " 'shark',\n",
       " 'leopard',\n",
       " 'squirrel',\n",
       " 'butterfly',\n",
       " 'lion']"
      ]
     },
     "execution_count": 49,
     "metadata": {},
     "output_type": "execute_result"
    }
   ],
   "source": [
    "classes"
   ]
  },
  {
   "cell_type": "code",
   "execution_count": 60,
   "metadata": {},
   "outputs": [
    {
     "data": {
      "text/plain": [
       "'butterfly'"
      ]
     },
     "execution_count": 60,
     "metadata": {},
     "output_type": "execute_result"
    }
   ],
   "source": [
    "y_test_string[1]"
   ]
  },
  {
   "cell_type": "code",
   "execution_count": 53,
   "metadata": {},
   "outputs": [
    {
     "data": {
      "text/plain": [
       "'butterfly'"
      ]
     },
     "execution_count": 53,
     "metadata": {},
     "output_type": "execute_result"
    }
   ],
   "source": [
    "classes[y_test[2]]"
   ]
  },
  {
   "cell_type": "code",
   "execution_count": 44,
   "metadata": {},
   "outputs": [
    {
     "ename": "AttributeError",
     "evalue": "'list' object has no attribute 'apply'",
     "output_type": "error",
     "traceback": [
      "\u001b[0;31m---------------------------------------------------\u001b[0m",
      "\u001b[0;31mAttributeError\u001b[0m    Traceback (most recent call last)",
      "\u001b[0;32m<ipython-input-44-9c804e76b7dc>\u001b[0m in \u001b[0;36m<module>\u001b[0;34m\u001b[0m\n\u001b[0;32m----> 1\u001b[0;31m \u001b[0my_test_string\u001b[0m\u001b[0;34m.\u001b[0m\u001b[0mapply\u001b[0m\u001b[0;34m(\u001b[0m\u001b[0mclasses\u001b[0m\u001b[0;34m[\u001b[0m\u001b[0my_test\u001b[0m\u001b[0;34m]\u001b[0m\u001b[0;34m)\u001b[0m\u001b[0;34m\u001b[0m\u001b[0m\n\u001b[0m",
      "\u001b[0;31mAttributeError\u001b[0m: 'list' object has no attribute 'apply'"
     ]
    }
   ],
   "source": [
    "y_test_string.apply(classes[y_test])"
   ]
  },
  {
   "cell_type": "code",
   "execution_count": 64,
   "metadata": {},
   "outputs": [],
   "source": [
    "X_id = []\n",
    "for i in range(y_test.shape[0]) : \n",
    "    X_id.append(i)"
   ]
  },
  {
   "cell_type": "code",
   "execution_count": 81,
   "metadata": {},
   "outputs": [],
   "source": [
    "d = {'Id': X_id, 'Category': y_test_string}\n",
    "test_df = pd.DataFrame(data = d)\n",
    "\n",
    "#test_df.set_index('Id')\n",
    "#test_df.reset_index()\n",
    "test_df.to_csv('submission.csv', index=False)"
   ]
  },
  {
   "cell_type": "code",
   "execution_count": 82,
   "metadata": {},
   "outputs": [
    {
     "data": {
      "text/html": [
       "<div>\n",
       "<style scoped>\n",
       "    .dataframe tbody tr th:only-of-type {\n",
       "        vertical-align: middle;\n",
       "    }\n",
       "\n",
       "    .dataframe tbody tr th {\n",
       "        vertical-align: top;\n",
       "    }\n",
       "\n",
       "    .dataframe thead th {\n",
       "        text-align: right;\n",
       "    }\n",
       "</style>\n",
       "<table border=\"1\" class=\"dataframe\">\n",
       "  <thead>\n",
       "    <tr style=\"text-align: right;\">\n",
       "      <th></th>\n",
       "      <th>Id</th>\n",
       "      <th>Category</th>\n",
       "    </tr>\n",
       "  </thead>\n",
       "  <tbody>\n",
       "    <tr>\n",
       "      <th>0</th>\n",
       "      <td>0</td>\n",
       "      <td>butterfly</td>\n",
       "    </tr>\n",
       "    <tr>\n",
       "      <th>1</th>\n",
       "      <td>1</td>\n",
       "      <td>butterfly</td>\n",
       "    </tr>\n",
       "    <tr>\n",
       "      <th>2</th>\n",
       "      <td>2</td>\n",
       "      <td>butterfly</td>\n",
       "    </tr>\n",
       "    <tr>\n",
       "      <th>3</th>\n",
       "      <td>3</td>\n",
       "      <td>butterfly</td>\n",
       "    </tr>\n",
       "    <tr>\n",
       "      <th>4</th>\n",
       "      <td>4</td>\n",
       "      <td>butterfly</td>\n",
       "    </tr>\n",
       "    <tr>\n",
       "      <th>5</th>\n",
       "      <td>5</td>\n",
       "      <td>butterfly</td>\n",
       "    </tr>\n",
       "    <tr>\n",
       "      <th>6</th>\n",
       "      <td>6</td>\n",
       "      <td>fox</td>\n",
       "    </tr>\n",
       "    <tr>\n",
       "      <th>7</th>\n",
       "      <td>7</td>\n",
       "      <td>butterfly</td>\n",
       "    </tr>\n",
       "    <tr>\n",
       "      <th>8</th>\n",
       "      <td>8</td>\n",
       "      <td>butterfly</td>\n",
       "    </tr>\n",
       "    <tr>\n",
       "      <th>9</th>\n",
       "      <td>9</td>\n",
       "      <td>bee</td>\n",
       "    </tr>\n",
       "    <tr>\n",
       "      <th>10</th>\n",
       "      <td>10</td>\n",
       "      <td>bee</td>\n",
       "    </tr>\n",
       "    <tr>\n",
       "      <th>11</th>\n",
       "      <td>11</td>\n",
       "      <td>butterfly</td>\n",
       "    </tr>\n",
       "    <tr>\n",
       "      <th>12</th>\n",
       "      <td>12</td>\n",
       "      <td>fox</td>\n",
       "    </tr>\n",
       "    <tr>\n",
       "      <th>13</th>\n",
       "      <td>13</td>\n",
       "      <td>shark</td>\n",
       "    </tr>\n",
       "    <tr>\n",
       "      <th>14</th>\n",
       "      <td>14</td>\n",
       "      <td>butterfly</td>\n",
       "    </tr>\n",
       "    <tr>\n",
       "      <th>15</th>\n",
       "      <td>15</td>\n",
       "      <td>butterfly</td>\n",
       "    </tr>\n",
       "    <tr>\n",
       "      <th>16</th>\n",
       "      <td>16</td>\n",
       "      <td>butterfly</td>\n",
       "    </tr>\n",
       "    <tr>\n",
       "      <th>17</th>\n",
       "      <td>17</td>\n",
       "      <td>butterfly</td>\n",
       "    </tr>\n",
       "    <tr>\n",
       "      <th>18</th>\n",
       "      <td>18</td>\n",
       "      <td>butterfly</td>\n",
       "    </tr>\n",
       "    <tr>\n",
       "      <th>19</th>\n",
       "      <td>19</td>\n",
       "      <td>butterfly</td>\n",
       "    </tr>\n",
       "    <tr>\n",
       "      <th>20</th>\n",
       "      <td>20</td>\n",
       "      <td>bee</td>\n",
       "    </tr>\n",
       "    <tr>\n",
       "      <th>21</th>\n",
       "      <td>21</td>\n",
       "      <td>fox</td>\n",
       "    </tr>\n",
       "    <tr>\n",
       "      <th>22</th>\n",
       "      <td>22</td>\n",
       "      <td>butterfly</td>\n",
       "    </tr>\n",
       "    <tr>\n",
       "      <th>23</th>\n",
       "      <td>23</td>\n",
       "      <td>fox</td>\n",
       "    </tr>\n",
       "    <tr>\n",
       "      <th>24</th>\n",
       "      <td>24</td>\n",
       "      <td>butterfly</td>\n",
       "    </tr>\n",
       "    <tr>\n",
       "      <th>25</th>\n",
       "      <td>25</td>\n",
       "      <td>butterfly</td>\n",
       "    </tr>\n",
       "    <tr>\n",
       "      <th>26</th>\n",
       "      <td>26</td>\n",
       "      <td>butterfly</td>\n",
       "    </tr>\n",
       "    <tr>\n",
       "      <th>27</th>\n",
       "      <td>27</td>\n",
       "      <td>butterfly</td>\n",
       "    </tr>\n",
       "    <tr>\n",
       "      <th>28</th>\n",
       "      <td>28</td>\n",
       "      <td>bee</td>\n",
       "    </tr>\n",
       "    <tr>\n",
       "      <th>29</th>\n",
       "      <td>29</td>\n",
       "      <td>butterfly</td>\n",
       "    </tr>\n",
       "    <tr>\n",
       "      <th>...</th>\n",
       "      <td>...</td>\n",
       "      <td>...</td>\n",
       "    </tr>\n",
       "    <tr>\n",
       "      <th>1770</th>\n",
       "      <td>1770</td>\n",
       "      <td>butterfly</td>\n",
       "    </tr>\n",
       "    <tr>\n",
       "      <th>1771</th>\n",
       "      <td>1771</td>\n",
       "      <td>fox</td>\n",
       "    </tr>\n",
       "    <tr>\n",
       "      <th>1772</th>\n",
       "      <td>1772</td>\n",
       "      <td>butterfly</td>\n",
       "    </tr>\n",
       "    <tr>\n",
       "      <th>1773</th>\n",
       "      <td>1773</td>\n",
       "      <td>fox</td>\n",
       "    </tr>\n",
       "    <tr>\n",
       "      <th>1774</th>\n",
       "      <td>1774</td>\n",
       "      <td>fox</td>\n",
       "    </tr>\n",
       "    <tr>\n",
       "      <th>1775</th>\n",
       "      <td>1775</td>\n",
       "      <td>butterfly</td>\n",
       "    </tr>\n",
       "    <tr>\n",
       "      <th>1776</th>\n",
       "      <td>1776</td>\n",
       "      <td>fox</td>\n",
       "    </tr>\n",
       "    <tr>\n",
       "      <th>1777</th>\n",
       "      <td>1777</td>\n",
       "      <td>bee</td>\n",
       "    </tr>\n",
       "    <tr>\n",
       "      <th>1778</th>\n",
       "      <td>1778</td>\n",
       "      <td>bee</td>\n",
       "    </tr>\n",
       "    <tr>\n",
       "      <th>1779</th>\n",
       "      <td>1779</td>\n",
       "      <td>fox</td>\n",
       "    </tr>\n",
       "    <tr>\n",
       "      <th>1780</th>\n",
       "      <td>1780</td>\n",
       "      <td>bee</td>\n",
       "    </tr>\n",
       "    <tr>\n",
       "      <th>1781</th>\n",
       "      <td>1781</td>\n",
       "      <td>fox</td>\n",
       "    </tr>\n",
       "    <tr>\n",
       "      <th>1782</th>\n",
       "      <td>1782</td>\n",
       "      <td>bee</td>\n",
       "    </tr>\n",
       "    <tr>\n",
       "      <th>1783</th>\n",
       "      <td>1783</td>\n",
       "      <td>butterfly</td>\n",
       "    </tr>\n",
       "    <tr>\n",
       "      <th>1784</th>\n",
       "      <td>1784</td>\n",
       "      <td>bee</td>\n",
       "    </tr>\n",
       "    <tr>\n",
       "      <th>1785</th>\n",
       "      <td>1785</td>\n",
       "      <td>fox</td>\n",
       "    </tr>\n",
       "    <tr>\n",
       "      <th>1786</th>\n",
       "      <td>1786</td>\n",
       "      <td>bee</td>\n",
       "    </tr>\n",
       "    <tr>\n",
       "      <th>1787</th>\n",
       "      <td>1787</td>\n",
       "      <td>fox</td>\n",
       "    </tr>\n",
       "    <tr>\n",
       "      <th>1788</th>\n",
       "      <td>1788</td>\n",
       "      <td>butterfly</td>\n",
       "    </tr>\n",
       "    <tr>\n",
       "      <th>1789</th>\n",
       "      <td>1789</td>\n",
       "      <td>fox</td>\n",
       "    </tr>\n",
       "    <tr>\n",
       "      <th>1790</th>\n",
       "      <td>1790</td>\n",
       "      <td>butterfly</td>\n",
       "    </tr>\n",
       "    <tr>\n",
       "      <th>1791</th>\n",
       "      <td>1791</td>\n",
       "      <td>butterfly</td>\n",
       "    </tr>\n",
       "    <tr>\n",
       "      <th>1792</th>\n",
       "      <td>1792</td>\n",
       "      <td>bee</td>\n",
       "    </tr>\n",
       "    <tr>\n",
       "      <th>1793</th>\n",
       "      <td>1793</td>\n",
       "      <td>fox</td>\n",
       "    </tr>\n",
       "    <tr>\n",
       "      <th>1794</th>\n",
       "      <td>1794</td>\n",
       "      <td>butterfly</td>\n",
       "    </tr>\n",
       "    <tr>\n",
       "      <th>1795</th>\n",
       "      <td>1795</td>\n",
       "      <td>fox</td>\n",
       "    </tr>\n",
       "    <tr>\n",
       "      <th>1796</th>\n",
       "      <td>1796</td>\n",
       "      <td>butterfly</td>\n",
       "    </tr>\n",
       "    <tr>\n",
       "      <th>1797</th>\n",
       "      <td>1797</td>\n",
       "      <td>butterfly</td>\n",
       "    </tr>\n",
       "    <tr>\n",
       "      <th>1798</th>\n",
       "      <td>1798</td>\n",
       "      <td>butterfly</td>\n",
       "    </tr>\n",
       "    <tr>\n",
       "      <th>1799</th>\n",
       "      <td>1799</td>\n",
       "      <td>butterfly</td>\n",
       "    </tr>\n",
       "  </tbody>\n",
       "</table>\n",
       "<p>1800 rows × 2 columns</p>\n",
       "</div>"
      ],
      "text/plain": [
       "        Id   Category\n",
       "0        0  butterfly\n",
       "1        1  butterfly\n",
       "2        2  butterfly\n",
       "3        3  butterfly\n",
       "4        4  butterfly\n",
       "5        5  butterfly\n",
       "6        6        fox\n",
       "7        7  butterfly\n",
       "8        8  butterfly\n",
       "9        9        bee\n",
       "10      10        bee\n",
       "11      11  butterfly\n",
       "12      12        fox\n",
       "13      13      shark\n",
       "14      14  butterfly\n",
       "15      15  butterfly\n",
       "16      16  butterfly\n",
       "17      17  butterfly\n",
       "18      18  butterfly\n",
       "19      19  butterfly\n",
       "20      20        bee\n",
       "21      21        fox\n",
       "22      22  butterfly\n",
       "23      23        fox\n",
       "24      24  butterfly\n",
       "25      25  butterfly\n",
       "26      26  butterfly\n",
       "27      27  butterfly\n",
       "28      28        bee\n",
       "29      29  butterfly\n",
       "...    ...        ...\n",
       "1770  1770  butterfly\n",
       "1771  1771        fox\n",
       "1772  1772  butterfly\n",
       "1773  1773        fox\n",
       "1774  1774        fox\n",
       "1775  1775  butterfly\n",
       "1776  1776        fox\n",
       "1777  1777        bee\n",
       "1778  1778        bee\n",
       "1779  1779        fox\n",
       "1780  1780        bee\n",
       "1781  1781        fox\n",
       "1782  1782        bee\n",
       "1783  1783  butterfly\n",
       "1784  1784        bee\n",
       "1785  1785        fox\n",
       "1786  1786        bee\n",
       "1787  1787        fox\n",
       "1788  1788  butterfly\n",
       "1789  1789        fox\n",
       "1790  1790  butterfly\n",
       "1791  1791  butterfly\n",
       "1792  1792        bee\n",
       "1793  1793        fox\n",
       "1794  1794  butterfly\n",
       "1795  1795        fox\n",
       "1796  1796  butterfly\n",
       "1797  1797  butterfly\n",
       "1798  1798  butterfly\n",
       "1799  1799  butterfly\n",
       "\n",
       "[1800 rows x 2 columns]"
      ]
     },
     "execution_count": 82,
     "metadata": {},
     "output_type": "execute_result"
    }
   ],
   "source": [
    "test_df"
   ]
  },
  {
   "cell_type": "code",
   "execution_count": 75,
   "metadata": {},
   "outputs": [],
   "source": [
    "import csv\n",
    "\n",
    "id = 23\n",
    "animal = 'chimpanzee'\n",
    "\n",
    "with open('submition.csv', 'w', newline='') as csvfile:\n",
    "    \n",
    "    spamwriter = csv.writer(csvfile, delimiter='',quotechar='|', quoting=csv.QUOTE_MINIMAL)\n",
    "    spamwriter.writerow({'Id,Category'})\n",
    "    \n",
    "    for i in range(4) : \n",
    "    \n",
    "        spamwriter.writerow({i,',',classes[y_test[i]]})\n"
   ]
  },
  {
   "cell_type": "code",
   "execution_count": 50,
   "metadata": {},
   "outputs": [],
   "source": [
    "import numpy as np\n",
    "from keras.applications.resnet50 import ResNet50, preprocess_input, decode_predictions\n",
    "from keras.models import Model\n",
    "from keras.preprocessing import image\n",
    "from skimage.transform import resize\n",
    "from skimage.io import imread"
   ]
  },
  {
   "cell_type": "code",
   "execution_count": 67,
   "metadata": {},
   "outputs": [
    {
     "data": {
      "text/plain": [
       "<keras.layers.core.Dense at 0x7f7b0acc2b38>"
      ]
     },
     "execution_count": 67,
     "metadata": {},
     "output_type": "execute_result"
    }
   ],
   "source": [
    " #Basic Implementation of resnet model\n",
    "model_ResNet50 = ResNet50(include_top=True, weights='imagenet')\n",
    "model_ResNet50.layers.pop()\n",
    "#model_ResNet50.summary()"
   ]
  },
  {
   "cell_type": "code",
   "execution_count": 68,
   "metadata": {},
   "outputs": [],
   "source": [
    "model_ResNet50.compile(optimizer='adam',loss='binary_crossentropy',metrics=['accuracy'])"
   ]
  },
  {
   "cell_type": "code",
   "execution_count": 102,
   "metadata": {},
   "outputs": [],
   "source": [
    "#print(X_tr)\n",
    "#print(y_tr)"
   ]
  },
  {
   "cell_type": "code",
   "execution_count": 69,
   "metadata": {},
   "outputs": [
    {
     "name": "stdout",
     "output_type": "stream",
     "text": [
      "742/742 [==============================] - 200s 270ms/step\n",
      "248/248 [==============================] - 66s 267ms/step\n",
      "Done extracting resnet50 features..\n"
     ]
    }
   ],
   "source": [
    "if model_ResNet50:\n",
    "    X_extracted_tr = model_ResNet50.predict(preprocess_input(X_tr), verbose=1)\n",
    "    X_extracted_val = model_ResNet50.predict(preprocess_input(X_val), verbose=1)\n",
    "    print('Done extracting resnet50 features..')"
   ]
  },
  {
   "cell_type": "code",
   "execution_count": 36,
   "metadata": {},
   "outputs": [
    {
     "name": "stdout",
     "output_type": "stream",
     "text": [
      "X_extracted_tr :  (67, 1000)\n"
     ]
    }
   ],
   "source": [
    "print(\"X_extracted_tr : \", X_extracted_tr.shape)"
   ]
  },
  {
   "cell_type": "code",
   "execution_count": 28,
   "metadata": {},
   "outputs": [],
   "source": [
    "from keras import optimizers\n",
    "\n",
    "sgd = optimizers.SGD(lr=0.01, decay=1e-6, momentum=0.9, nesterov=True)"
   ]
  },
  {
   "cell_type": "code",
   "execution_count": 223,
   "metadata": {},
   "outputs": [],
   "source": [
    "from keras.models import Sequential\n",
    "from keras.layers import Dense, Dropout, Flatten, Conv2D, MaxPooling2D, Activation, BatchNormalization\n",
    "from keras.optimizers import Adam\n",
    "\n",
    "batch_size = 128\n",
    "num_epochs = 20\n",
    "\n",
    "transfer_model = Sequential()\n",
    "\n",
    "kernel_height = 5\n",
    "kernel_width = 5\n",
    "output_filter = 32\n",
    "output_filter2 = 64\n",
    "input_image = (image_size[0], image_size[1], image_size[2])\n",
    "activation1 = 'relu'\n",
    "activation2 = 'sigmoid'\n",
    "\n",
    "\"\"\"\n",
    "# TODO: 1st Convolution Layer\n",
    "transfer_model.add(Conv2D(output_filter2, (kernel_height, kernel_width), padding='SAME', input_shape=(image_size[0], image_size[1], image_size[2]))) \n",
    "transfer_model.add(Activation('relu')) \n",
    "transfer_model.add(BatchNormalization())\n",
    "transfer_model.add(MaxPooling2D(pool_size=(2, 2)))\n",
    "\n",
    "#2nd Convolution Layer\n",
    "transfer_model.add(Conv2D(output_filter2, (kernel_height, kernel_width)))\n",
    "transfer_model.add(Activation(activation1)) \n",
    "transfer_model.add(BatchNormalization())\n",
    "transfer_model.add(MaxPooling2D(pool_size=(2, 2)))\n",
    "\n",
    "transfer_model.add(Flatten())\n",
    "transfer_model.add(Dropout(0.5))\n",
    "#transfer_model.add(Dense(128, activation = 'relu'))\n",
    "transfer_model.add(Dense(1, activation = 'sigmoid'))\"\"\"\n",
    "\n",
    "\n",
    "\n",
    "transfer_model.add(Conv2D(output_filter, (kernel_height, kernel_width), padding='SAME', input_shape=input_image)) \n",
    "transfer_model.add(Activation('relu')) \n",
    "transfer_model.add(BatchNormalization())\n",
    "transfer_model.add(MaxPooling2D(pool_size=(2, 2)))\n",
    "\n",
    "transfer_model.add(Conv2D(output_filter2, (3, 3), padding='SAME', input_shape=input_image)) \n",
    "transfer_model.add(Activation('relu')) \n",
    "transfer_model.add(BatchNormalization())\n",
    "transfer_model.add(MaxPooling2D(pool_size=(2, 2)))\n",
    "\n",
    "transfer_model.add(Flatten())\n",
    "transfer_model.add(Dropout(0.4))\n",
    "transfer_model.add(Dense(126, activation='relu'))\n",
    "transfer_model.add(Dropout(0.25))\n",
    "#transfer_model.add(Dense(10, activation='softmax'))\n",
    "transfer_model.add(Dense(1))\n",
    "\n",
    "    \n",
    "transfer_model.compile(optimizer='adam',loss='mean_squared_error',metrics=['accuracy'])"
   ]
  }
 ],
 "metadata": {
  "kernelspec": {
   "display_name": "Python 3",
   "language": "python",
   "name": "python3"
  },
  "language_info": {
   "codemirror_mode": {
    "name": "ipython",
    "version": 3
   },
   "file_extension": ".py",
   "mimetype": "text/x-python",
   "name": "python",
   "nbconvert_exporter": "python",
   "pygments_lexer": "ipython3",
   "version": "3.6.5"
  }
 },
 "nbformat": 4,
 "nbformat_minor": 2
}
